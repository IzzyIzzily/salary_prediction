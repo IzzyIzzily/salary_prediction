{
 "cells": [
  {
   "cell_type": "markdown",
   "id": "precious-cooling",
   "metadata": {},
   "source": [
    "### EXECUTIVE SUMMARY\n",
    "This notebook has 2 tasks:\n",
    "1. determine factors impact salary of data-related jobs\n",
    "2. determine factors distinguish categories of data-related jobs\n",
    "    \n",
    "Data was scrapped from seek.com by keywords (data analyst, data engineer, data scientist, data architect) in Australia, which returned 13965 jobs. After dropping irrelevant jobs and duplicates, 5130 observations were kept for machine learning. \n",
    "    \n",
    "For task 1, target variable is salary range, which has been classified as low(80k and under), mid(80k - 120k) and high(120k and above) with reletively balanced distribution. The hypothsis was that location, industry, employment type would impact on salary band. 65% accuracy was returned from LogisticRegression model taking these features into account, whereas 62% accuracy when learning from job description only. \n",
    "    \n",
    "The findings are below:\n",
    "- Contract/temporary employment is more likely to offer high salary, whereas full-time employment is more popular for mid and low salary range.\n",
    "- With high salary band, employers are looking for senior business and architect experience. In low salary band, employees are expected to be junior, graduate and supportive role. \n",
    "- Location-wise, ACT, Melbourne and Sydney offer the most high salary data related jobs. On the other hand, Brisbane and Adelaide offer low salary jobs. \n",
    "- Industry-wise, employers labelled as Information and Communication Technology tend to offer high salary for data-related jobs. By that, it means that employers in other industries are more likely to offer lower salary. \n",
    "    \n",
    "For task 2, target variable is job categories (analyst, scientist, engineer, architect) where 65% jobs were listed as analyst. One finding was that job description of these categories were most likely to include similar terms or word roots in text, resulting in high biased model with 94% accuary. The approach of this task was to get rid of these relevant terms from document term matrix before machine learning. It reduced accuracy to 89% however generated more intelligent interpretation. \n",
    "    \n",
    "The findings are below:\n",
    "- Architect roles are expected to demonstrate abilities of solution delivery, roadmaps, leadership and engagement. \n",
    "- Scientist roles are described with statistical and algorithm knowledge, prediction and technical abilities.\n",
    "- Engineer roles heavily involve Python language, knowledge of AWS, data pipeline, and deployment.\n",
    "- Analyst roles are associated with understanding of business and reporting skills. "
   ]
  },
  {
   "cell_type": "markdown",
   "id": "continuous-mercy",
   "metadata": {},
   "source": [
    "### PART1. EDA"
   ]
  },
  {
   "cell_type": "code",
   "execution_count": 1,
   "id": "young-cartoon",
   "metadata": {},
   "outputs": [],
   "source": [
    "import pandas as pd\n",
    "import numpy as np\n",
    "import scipy as sp\n",
    "\n",
    "import matplotlib.pyplot as plt\n",
    "import seaborn as sns\n",
    "\n",
    "%matplotlib inline\n",
    "pd.set_option('display.html.use_mathjax', False)"
   ]
  },
  {
   "cell_type": "code",
   "execution_count": 2,
   "id": "increased-intranet",
   "metadata": {},
   "outputs": [
    {
     "data": {
      "text/plain": [
       "(13965, 12)"
      ]
     },
     "execution_count": 2,
     "metadata": {},
     "output_type": "execute_result"
    }
   ],
   "source": [
    "data_analyst = pd.read_json('./datasets/data_analyst.json')\n",
    "data_scientist = pd.read_json('./datasets/data_scientist_1.json')\n",
    "data_architect = pd.read_json('./datasets/data_architect_1.json')\n",
    "data_engineer = pd.read_json('./datasets/data_engineer_1.json')\n",
    "\n",
    "df = pd.concat([data_analyst, data_scientist, data_architect, data_engineer], axis = 0)\n",
    "df.shape"
   ]
  },
  {
   "cell_type": "code",
   "execution_count": 3,
   "id": "central-structure",
   "metadata": {},
   "outputs": [
    {
     "name": "stdout",
     "output_type": "stream",
     "text": [
      "<class 'pandas.core.frame.DataFrame'>\n",
      "RangeIndex: 13965 entries, 0 to 13964\n",
      "Data columns (total 12 columns):\n",
      " #   Column           Non-Null Count  Dtype \n",
      "---  ------           --------------  ----- \n",
      " 0   job_id           13965 non-null  int64 \n",
      " 1   title            13965 non-null  object\n",
      " 2   company          7694 non-null   object\n",
      " 3   city             13965 non-null  object\n",
      " 4   suburb           9133 non-null   object\n",
      " 5   industry         13965 non-null  object\n",
      " 6   department       13965 non-null  object\n",
      " 7   salary           4701 non-null   object\n",
      " 8   salary_label     13965 non-null  object\n",
      " 9   employment_type  13965 non-null  object\n",
      " 10  detail           13965 non-null  object\n",
      " 11  request_url      13965 non-null  object\n",
      "dtypes: int64(1), object(11)\n",
      "memory usage: 1.3+ MB\n"
     ]
    }
   ],
   "source": [
    "df.reset_index(inplace=True, drop=True)\n",
    "df.info()"
   ]
  },
  {
   "cell_type": "code",
   "execution_count": 4,
   "id": "offshore-dining",
   "metadata": {},
   "outputs": [],
   "source": [
    "def column_inspector(df):\n",
    "    for col in df.columns[:-2]:\n",
    "        print('----------------', col.upper(),'----------------')\n",
    "        print(df[col].value_counts(dropna = False))\n",
    "        print('~~~~~~~~~~~~~~~~~~~~~~~~~~~~~~~~~~~~~~~~~~~~~~~~~\\n')"
   ]
  },
  {
   "cell_type": "code",
   "execution_count": 5,
   "id": "fitted-professor",
   "metadata": {
    "collapsed": true,
    "jupyter": {
     "outputs_hidden": true
    }
   },
   "outputs": [
    {
     "name": "stdout",
     "output_type": "stream",
     "text": [
      "---------------- JOB_ID ----------------\n",
      "52570370    4\n",
      "52409085    4\n",
      "52431789    4\n",
      "52552486    4\n",
      "52360696    4\n",
      "           ..\n",
      "52343314    1\n",
      "52569926    1\n",
      "52500296    1\n",
      "52387657    1\n",
      "52545535    1\n",
      "Name: job_id, Length: 11091, dtype: int64\n",
      "~~~~~~~~~~~~~~~~~~~~~~~~~~~~~~~~~~~~~~~~~~~~~~~~~\n",
      "\n",
      "---------------- TITLE ----------------\n",
      "Data Engineer                                270\n",
      "Business Analyst                             232\n",
      "Solution Architect                           103\n",
      "Senior Business Analyst                      101\n",
      "Senior Data Engineer                          98\n",
      "                                            ... \n",
      "Salesforce Functional Analyst                  1\n",
      "Financial Accountant- Fixed Term Contract      1\n",
      "APS6 Risk Enablement Officer                   1\n",
      "Executive Assistant & Office Manager           1\n",
      "Data Engineer- MS Azure                        1\n",
      "Name: title, Length: 7399, dtype: int64\n",
      "~~~~~~~~~~~~~~~~~~~~~~~~~~~~~~~~~~~~~~~~~~~~~~~~~\n",
      "\n",
      "---------------- COMPANY ----------------\n",
      "NaN                                                             6271\n",
      "Talent – SEEK Recruitment Agency of the Year | 7 Time Winner     164\n",
      "Bluefin Resources Pty Limited                                    146\n",
      "Private Advertiser                                               145\n",
      "Paxus                                                            104\n",
      "                                                                ... \n",
      "Tonkin & Taylor Ltd                                                1\n",
      "Programa                                                           1\n",
      "Albert Road Clinic Ramsay Health                                   1\n",
      "Shine Resourcing                                                   1\n",
      "National Crime Check                                               1\n",
      "Name: company, Length: 2148, dtype: int64\n",
      "~~~~~~~~~~~~~~~~~~~~~~~~~~~~~~~~~~~~~~~~~~~~~~~~~\n",
      "\n",
      "---------------- CITY ----------------\n",
      "Sydney                    5150\n",
      "Melbourne                 3874\n",
      "Brisbane                  1624\n",
      "ACT                        997\n",
      "Perth                      878\n",
      "                          ... \n",
      "Northam & Wheatbelt          2\n",
      "Devonport & North West       2\n",
      "Broome & Kimberley           2\n",
      "Middle East & Africa         1\n",
      "London                       1\n",
      "Name: city, Length: 62, dtype: int64\n",
      "~~~~~~~~~~~~~~~~~~~~~~~~~~~~~~~~~~~~~~~~~~~~~~~~~\n",
      "\n",
      "---------------- SUBURB ----------------\n",
      "NaN                                    4832\n",
      "CBD & Inner Suburbs                    3445\n",
      "CBD, Inner West & Eastern Suburbs      3046\n",
      "CBD, Inner & Western Suburbs            535\n",
      "North Shore & Northern Beaches          363\n",
      "Parramatta & Western Suburbs            340\n",
      "Eastern Suburbs                         337\n",
      "Ryde & Macquarie Park                   262\n",
      "Bayside & South Eastern Suburbs         186\n",
      "Northern Suburbs                        158\n",
      "Fremantle & Southern Suburbs             99\n",
      "Western Suburbs                          80\n",
      "North West & Hills District              67\n",
      "South West & M5 Corridor                 55\n",
      "Northern Suburbs & Joondalup             37\n",
      "Western Suburbs & Ipswich                34\n",
      "Southern Suburbs & Logan                 33\n",
      "Southern Suburbs & Sutherland Shire      25\n",
      "PNG & Pacific Islands                     9\n",
      "Rockingham & Kwinana                      8\n",
      "Bayside & Eastern Suburbs                 7\n",
      "India & South Asia                        2\n",
      "Caribbean, Central & South America        2\n",
      "China, Hong Kong & Taiwan                 1\n",
      "Middle East & North Africa                1\n",
      "USA & Canada                              1\n",
      "Name: suburb, dtype: int64\n",
      "~~~~~~~~~~~~~~~~~~~~~~~~~~~~~~~~~~~~~~~~~~~~~~~~~\n",
      "\n",
      "---------------- INDUSTRY ----------------\n",
      "Information & Communication Technology    7424\n",
      "Government & Defence                       735\n",
      "Banking & Financial Services               714\n",
      "Marketing & Communications                 676\n",
      "Education & Training                       580\n",
      "Accounting                                 564\n",
      "Healthcare & Medical                       547\n",
      "Science & Technology                       520\n",
      "Consulting & Strategy                      335\n",
      "Engineering                                257\n",
      "Mining, Resources & Energy                 255\n",
      "Manufacturing, Transport & Logistics       184\n",
      "Administration & Office Support            175\n",
      "Sales                                      155\n",
      "Human Resources & Recruitment              150\n",
      "Insurance & Superannuation                 107\n",
      "Community Services & Development            83\n",
      "Call Centre & Customer Service              65\n",
      "Real Estate & Property                      65\n",
      "Advertising, Arts & Media                   59\n",
      "Construction                                58\n",
      "Design & Architecture                       52\n",
      "Farming, Animals & Conservation             50\n",
      "Legal                                       46\n",
      "Retail & Consumer Products                  45\n",
      "Trades & Services                           28\n",
      "Hospitality & Tourism                       17\n",
      "Sport & Recreation                          10\n",
      "CEO & General Management                     9\n",
      "Name: industry, dtype: int64\n",
      "~~~~~~~~~~~~~~~~~~~~~~~~~~~~~~~~~~~~~~~~~~~~~~~~~\n",
      "\n",
      "---------------- DEPARTMENT ----------------\n",
      "Business/Systems Analysts         1573\n",
      "Other                             1253\n",
      "Developers/Programmers            1211\n",
      "Engineering - Software             970\n",
      "Architects                         760\n",
      "                                  ... \n",
      "Collections                          1\n",
      "Generalists - Law Firm               1\n",
      "Teaching Aides & Special Needs       1\n",
      "Nursing - Aged Care                  1\n",
      "Welders & Boilermakers               1\n",
      "Name: department, Length: 268, dtype: int64\n",
      "~~~~~~~~~~~~~~~~~~~~~~~~~~~~~~~~~~~~~~~~~~~~~~~~~\n",
      "\n",
      "---------------- SALARY ----------------\n",
      "NaN                                             9264\n",
      "Competitive                                       53\n",
      "Excellent Rate                                    43\n",
      "$100,000 - $149,999                               22\n",
      "$80,783 to $88,028 plus 15.4% superannuation      22\n",
      "                                                ... \n",
      "Azure Cloud, WFH, Perm, SE Suburbs                 1\n",
      "$850-$950 inc super per day                        1\n",
      "$130k + super + benefits                           1\n",
      "annual leave loading + super                       1\n",
      "$60,000 - $69,999 commencing                       1\n",
      "Name: salary, Length: 2460, dtype: int64\n",
      "~~~~~~~~~~~~~~~~~~~~~~~~~~~~~~~~~~~~~~~~~~~~~~~~~\n",
      "\n",
      "---------------- SALARY_LABEL ----------------\n",
      "low     5275\n",
      "mid     4529\n",
      "high    4161\n",
      "Name: salary_label, dtype: int64\n",
      "~~~~~~~~~~~~~~~~~~~~~~~~~~~~~~~~~~~~~~~~~~~~~~~~~\n",
      "\n",
      "---------------- EMPLOYMENT_TYPE ----------------\n",
      "Full Time          10232\n",
      "Contract/Temp       3378\n",
      "Part Time            273\n",
      "Casual/Vacation       82\n",
      "Name: employment_type, dtype: int64\n",
      "~~~~~~~~~~~~~~~~~~~~~~~~~~~~~~~~~~~~~~~~~~~~~~~~~\n",
      "\n"
     ]
    }
   ],
   "source": [
    "column_inspector(df)"
   ]
  },
  {
   "cell_type": "markdown",
   "id": "similar-winner",
   "metadata": {},
   "source": [
    "#### Filter job title by 4 categories: 'analyst'/'scientist'/'engineer'/'architect', drop unrelevant jobs by title"
   ]
  },
  {
   "cell_type": "code",
   "execution_count": 6,
   "id": "religious-insurance",
   "metadata": {},
   "outputs": [
    {
     "data": {
      "text/plain": [
       "(6620, 12)"
      ]
     },
     "execution_count": 6,
     "metadata": {},
     "output_type": "execute_result"
    }
   ],
   "source": [
    "title_stings = ['analyst','scientist','engineer', 'architect']\n",
    "\n",
    "relevant_title_idx = []\n",
    "for idx, ttl in enumerate(df.title):\n",
    "    ttl_words = [x for x in ttl.split()]\n",
    "    for ttl_word in ttl_words:\n",
    "        if ttl_word.lower() in title_stings:\n",
    "            relevant_title_idx.append(idx)\n",
    "            break\n",
    "\n",
    "df1 = df.iloc[relevant_title_idx,:]\n",
    "df1.shape"
   ]
  },
  {
   "cell_type": "markdown",
   "id": "genetic-repository",
   "metadata": {},
   "source": [
    "#### Remove duplicate jobs by job_id"
   ]
  },
  {
   "cell_type": "code",
   "execution_count": 7,
   "id": "solved-windsor",
   "metadata": {},
   "outputs": [
    {
     "data": {
      "text/plain": [
       "(5134, 12)"
      ]
     },
     "execution_count": 7,
     "metadata": {},
     "output_type": "execute_result"
    }
   ],
   "source": [
    "job_ids = df1.job_id.tolist()\n",
    "\n",
    "keep_id_list = []\n",
    "for job_id in list(dict.fromkeys(job_ids)):\n",
    "    index = df1[df1.job_id == job_id].index\n",
    "    keep_id_list.append(index[0])\n",
    "\n",
    "df2 = df.iloc[keep_id_list,:]\n",
    "df2.shape"
   ]
  },
  {
   "cell_type": "code",
   "execution_count": 8,
   "id": "closed-guess",
   "metadata": {},
   "outputs": [
    {
     "name": "stdout",
     "output_type": "stream",
     "text": [
      "<class 'pandas.core.frame.DataFrame'>\n",
      "Int64Index: 5134 entries, 0 to 13962\n",
      "Data columns (total 12 columns):\n",
      " #   Column           Non-Null Count  Dtype \n",
      "---  ------           --------------  ----- \n",
      " 0   job_id           5134 non-null   int64 \n",
      " 1   title            5134 non-null   object\n",
      " 2   company          2997 non-null   object\n",
      " 3   city             5134 non-null   object\n",
      " 4   suburb           3484 non-null   object\n",
      " 5   industry         5134 non-null   object\n",
      " 6   department       5134 non-null   object\n",
      " 7   salary           1710 non-null   object\n",
      " 8   salary_label     5134 non-null   object\n",
      " 9   employment_type  5134 non-null   object\n",
      " 10  detail           5134 non-null   object\n",
      " 11  request_url      5134 non-null   object\n",
      "dtypes: int64(1), object(11)\n",
      "memory usage: 521.4+ KB\n"
     ]
    }
   ],
   "source": [
    "df2.info()"
   ]
  },
  {
   "cell_type": "markdown",
   "id": "green-cookbook",
   "metadata": {},
   "source": [
    "#### Remove \"outliers\" where value counts is extremely low"
   ]
  },
  {
   "cell_type": "code",
   "execution_count": 9,
   "id": "blond-syracuse",
   "metadata": {},
   "outputs": [
    {
     "data": {
      "text/plain": [
       "9395    https://www.seek.com.au/job/52575179?type=stan...\n",
       "Name: request_url, dtype: object"
      ]
     },
     "execution_count": 9,
     "metadata": {},
     "output_type": "execute_result"
    }
   ],
   "source": [
    "df2[df2.suburb == 'India & South Asia'].request_url\n",
    "# keeping this job as it involved database knowledge"
   ]
  },
  {
   "cell_type": "code",
   "execution_count": 10,
   "id": "stopped-cargo",
   "metadata": {},
   "outputs": [
    {
     "data": {
      "text/plain": [
       "6043    https://www.seek.com.au/job/52521662?type=stan...\n",
       "Name: request_url, dtype: object"
      ]
     },
     "execution_count": 10,
     "metadata": {},
     "output_type": "execute_result"
    }
   ],
   "source": [
    "df2[df2.industry == 'Trades & Services'].request_url\n",
    "# not data related job >>> drop it"
   ]
  },
  {
   "cell_type": "code",
   "execution_count": 11,
   "id": "challenging-singles",
   "metadata": {},
   "outputs": [
    {
     "data": {
      "text/plain": [
       "8353    https://www.seek.com.au/job/52586209?type=stan...\n",
       "Name: request_url, dtype: object"
      ]
     },
     "execution_count": 11,
     "metadata": {},
     "output_type": "execute_result"
    }
   ],
   "source": [
    "df2[df2.industry == 'Farming, Animals & Conservation'].request_url\n",
    "# not data related job >>> drop it"
   ]
  },
  {
   "cell_type": "code",
   "execution_count": 12,
   "id": "adult-dynamics",
   "metadata": {},
   "outputs": [
    {
     "data": {
      "text/plain": [
       "1233    https://www.seek.com.au/job/52363026?type=stan...\n",
       "5246    https://www.seek.com.au/job/52579999?type=stan...\n",
       "Name: request_url, dtype: object"
      ]
     },
     "execution_count": 12,
     "metadata": {},
     "output_type": "execute_result"
    }
   ],
   "source": [
    "df2[df2.industry == 'Hospitality & Tourism'].request_url\n",
    "# not data related job >>> drop it"
   ]
  },
  {
   "cell_type": "code",
   "execution_count": 13,
   "id": "technological-charleston",
   "metadata": {},
   "outputs": [
    {
     "name": "stderr",
     "output_type": "stream",
     "text": [
      "/opt/anaconda3/lib/python3.7/site-packages/pandas/core/frame.py:4312: SettingWithCopyWarning: \n",
      "A value is trying to be set on a copy of a slice from a DataFrame\n",
      "\n",
      "See the caveats in the documentation: https://pandas.pydata.org/pandas-docs/stable/user_guide/indexing.html#returning-a-view-versus-a-copy\n",
      "  errors=errors,\n"
     ]
    }
   ],
   "source": [
    "df2.drop(index = [6043,8353,1233,5246], inplace=True)"
   ]
  },
  {
   "cell_type": "code",
   "execution_count": 14,
   "id": "foreign-redhead",
   "metadata": {},
   "outputs": [
    {
     "name": "stdout",
     "output_type": "stream",
     "text": [
      "<class 'pandas.core.frame.DataFrame'>\n",
      "RangeIndex: 5130 entries, 0 to 5129\n",
      "Data columns (total 12 columns):\n",
      " #   Column           Non-Null Count  Dtype \n",
      "---  ------           --------------  ----- \n",
      " 0   job_id           5130 non-null   int64 \n",
      " 1   title            5130 non-null   object\n",
      " 2   company          2995 non-null   object\n",
      " 3   city             5130 non-null   object\n",
      " 4   suburb           3481 non-null   object\n",
      " 5   industry         5130 non-null   object\n",
      " 6   department       5130 non-null   object\n",
      " 7   salary           1708 non-null   object\n",
      " 8   salary_label     5130 non-null   object\n",
      " 9   employment_type  5130 non-null   object\n",
      " 10  detail           5130 non-null   object\n",
      " 11  request_url      5130 non-null   object\n",
      "dtypes: int64(1), object(11)\n",
      "memory usage: 481.1+ KB\n"
     ]
    }
   ],
   "source": [
    "df2.reset_index(inplace = True, drop = True)\n",
    "df2.info()"
   ]
  },
  {
   "cell_type": "code",
   "execution_count": 15,
   "id": "concerned-basin",
   "metadata": {},
   "outputs": [
    {
     "data": {
      "text/html": [
       "<div>\n",
       "<style scoped>\n",
       "    .dataframe tbody tr th:only-of-type {\n",
       "        vertical-align: middle;\n",
       "    }\n",
       "\n",
       "    .dataframe tbody tr th {\n",
       "        vertical-align: top;\n",
       "    }\n",
       "\n",
       "    .dataframe thead th {\n",
       "        text-align: right;\n",
       "    }\n",
       "</style>\n",
       "<table border=\"1\" class=\"dataframe tex2jax_ignore\">\n",
       "  <thead>\n",
       "    <tr style=\"text-align: right;\">\n",
       "      <th></th>\n",
       "      <th>job_id</th>\n",
       "      <th>title</th>\n",
       "      <th>company</th>\n",
       "      <th>city</th>\n",
       "      <th>suburb</th>\n",
       "      <th>industry</th>\n",
       "      <th>department</th>\n",
       "      <th>salary</th>\n",
       "      <th>salary_label</th>\n",
       "      <th>employment_type</th>\n",
       "      <th>detail</th>\n",
       "      <th>request_url</th>\n",
       "    </tr>\n",
       "  </thead>\n",
       "  <tbody>\n",
       "    <tr>\n",
       "      <th>0</th>\n",
       "      <td>52624020</td>\n",
       "      <td>Data &amp; Reporting Analyst</td>\n",
       "      <td>Tony White Group</td>\n",
       "      <td>Brisbane</td>\n",
       "      <td>CBD &amp; Inner Suburbs</td>\n",
       "      <td>Information &amp; Communication Technology</td>\n",
       "      <td>Business/Systems Analysts</td>\n",
       "      <td>None</td>\n",
       "      <td>low</td>\n",
       "      <td>Full Time</td>\n",
       "      <td>THE TONY WHITE GROUP: The Tony White Group (TW...</td>\n",
       "      <td>https://www.seek.com.au/job/52624020?type=stan...</td>\n",
       "    </tr>\n",
       "    <tr>\n",
       "      <th>1</th>\n",
       "      <td>52586658</td>\n",
       "      <td>Data Analyst</td>\n",
       "      <td>None</td>\n",
       "      <td>Sydney</td>\n",
       "      <td>CBD, Inner West &amp; Eastern Suburbs</td>\n",
       "      <td>Government &amp; Defence</td>\n",
       "      <td>Government - Federal</td>\n",
       "      <td>Access to a wide-range of staff benefits</td>\n",
       "      <td>low</td>\n",
       "      <td>Full Time</td>\n",
       "      <td>\\n Work on a high impact transformation using ...</td>\n",
       "      <td>https://www.seek.com.au/job/52586658?type=stan...</td>\n",
       "    </tr>\n",
       "    <tr>\n",
       "      <th>2</th>\n",
       "      <td>52630549</td>\n",
       "      <td>Data Analyst</td>\n",
       "      <td>Australian Financial Complaints Authority Limited</td>\n",
       "      <td>Melbourne</td>\n",
       "      <td>CBD &amp; Inner Suburbs</td>\n",
       "      <td>Banking &amp; Financial Services</td>\n",
       "      <td>Analysis &amp; Reporting</td>\n",
       "      <td>Base + Super + Not-for-profit benefits</td>\n",
       "      <td>low</td>\n",
       "      <td>Full Time</td>\n",
       "      <td>The General Insurance Code Compliance team at ...</td>\n",
       "      <td>https://www.seek.com.au/job/52630549?type=stan...</td>\n",
       "    </tr>\n",
       "    <tr>\n",
       "      <th>3</th>\n",
       "      <td>52581764</td>\n",
       "      <td>Junior Data Analyst</td>\n",
       "      <td>Continuum Recruitment</td>\n",
       "      <td>Sydney</td>\n",
       "      <td>CBD, Inner West &amp; Eastern Suburbs</td>\n",
       "      <td>Information &amp; Communication Technology</td>\n",
       "      <td>Other</td>\n",
       "      <td>Great salary, amazing mentor</td>\n",
       "      <td>low</td>\n",
       "      <td>Full Time</td>\n",
       "      <td>Growing internal team Advancing Technology Lea...</td>\n",
       "      <td>https://www.seek.com.au/job/52581764?type=stan...</td>\n",
       "    </tr>\n",
       "    <tr>\n",
       "      <th>4</th>\n",
       "      <td>52631079</td>\n",
       "      <td>Data Analyst</td>\n",
       "      <td>None</td>\n",
       "      <td>Brisbane</td>\n",
       "      <td>CBD &amp; Inner Suburbs</td>\n",
       "      <td>Accounting</td>\n",
       "      <td>Analysis &amp; Reporting</td>\n",
       "      <td>None</td>\n",
       "      <td>low</td>\n",
       "      <td>Full Time</td>\n",
       "      <td>About Ashurst:       Ashurst is a leading g...</td>\n",
       "      <td>https://www.seek.com.au/job/52631079?type=stan...</td>\n",
       "    </tr>\n",
       "  </tbody>\n",
       "</table>\n",
       "</div>"
      ],
      "text/plain": [
       "     job_id                     title  \\\n",
       "0  52624020  Data & Reporting Analyst   \n",
       "1  52586658              Data Analyst   \n",
       "2  52630549              Data Analyst   \n",
       "3  52581764       Junior Data Analyst   \n",
       "4  52631079              Data Analyst   \n",
       "\n",
       "                                             company       city  \\\n",
       "0                                   Tony White Group   Brisbane   \n",
       "1                                               None     Sydney   \n",
       "2  Australian Financial Complaints Authority Limited  Melbourne   \n",
       "3                              Continuum Recruitment     Sydney   \n",
       "4                                               None   Brisbane   \n",
       "\n",
       "                              suburb                                industry  \\\n",
       "0                CBD & Inner Suburbs  Information & Communication Technology   \n",
       "1  CBD, Inner West & Eastern Suburbs                    Government & Defence   \n",
       "2                CBD & Inner Suburbs            Banking & Financial Services   \n",
       "3  CBD, Inner West & Eastern Suburbs  Information & Communication Technology   \n",
       "4                CBD & Inner Suburbs                              Accounting   \n",
       "\n",
       "                  department                                    salary  \\\n",
       "0  Business/Systems Analysts                                      None   \n",
       "1       Government - Federal  Access to a wide-range of staff benefits   \n",
       "2       Analysis & Reporting    Base + Super + Not-for-profit benefits   \n",
       "3                      Other              Great salary, amazing mentor   \n",
       "4       Analysis & Reporting                                      None   \n",
       "\n",
       "  salary_label employment_type  \\\n",
       "0          low       Full Time   \n",
       "1          low       Full Time   \n",
       "2          low       Full Time   \n",
       "3          low       Full Time   \n",
       "4          low       Full Time   \n",
       "\n",
       "                                              detail  \\\n",
       "0  THE TONY WHITE GROUP: The Tony White Group (TW...   \n",
       "1  \\n Work on a high impact transformation using ...   \n",
       "2  The General Insurance Code Compliance team at ...   \n",
       "3  Growing internal team Advancing Technology Lea...   \n",
       "4     About Ashurst:       Ashurst is a leading g...   \n",
       "\n",
       "                                         request_url  \n",
       "0  https://www.seek.com.au/job/52624020?type=stan...  \n",
       "1  https://www.seek.com.au/job/52586658?type=stan...  \n",
       "2  https://www.seek.com.au/job/52630549?type=stan...  \n",
       "3  https://www.seek.com.au/job/52581764?type=stan...  \n",
       "4  https://www.seek.com.au/job/52631079?type=stan...  "
      ]
     },
     "execution_count": 15,
     "metadata": {},
     "output_type": "execute_result"
    }
   ],
   "source": [
    "df2.head()"
   ]
  },
  {
   "cell_type": "markdown",
   "id": "cultural-method",
   "metadata": {},
   "source": [
    "### PART2. Predict salary class by job description, location, title, company, industry, employment_type"
   ]
  },
  {
   "cell_type": "markdown",
   "id": "amino-sport",
   "metadata": {},
   "source": [
    "#### merge text columns(job title and detail), dummy categorical features"
   ]
  },
  {
   "cell_type": "code",
   "execution_count": 16,
   "id": "written-perspective",
   "metadata": {},
   "outputs": [],
   "source": [
    "from sklearn.model_selection import train_test_split, GridSearchCV, cross_val_score\n",
    "from sklearn.feature_extraction.text import CountVectorizer, TfidfVectorizer\n",
    "from sklearn.linear_model import LogisticRegression\n",
    "from sklearn.ensemble import RandomForestClassifier\n",
    "from sklearn.preprocessing import Normalizer\n",
    "from sklearn.svm import SVC\n",
    "from sklearn.pipeline import Pipeline\n",
    "from sklearn import metrics"
   ]
  },
  {
   "cell_type": "code",
   "execution_count": 17,
   "id": "interesting-heather",
   "metadata": {},
   "outputs": [
    {
     "name": "stderr",
     "output_type": "stream",
     "text": [
      "/opt/anaconda3/lib/python3.7/site-packages/pandas/core/generic.py:5489: SettingWithCopyWarning: \n",
      "A value is trying to be set on a copy of a slice from a DataFrame.\n",
      "Try using .loc[row_indexer,col_indexer] = value instead\n",
      "\n",
      "See the caveats in the documentation: https://pandas.pydata.org/pandas-docs/stable/user_guide/indexing.html#returning-a-view-versus-a-copy\n",
      "  self[name] = value\n"
     ]
    }
   ],
   "source": [
    "# label salary range:\n",
    "# 0: low (80,000 and under)\n",
    "# 1: mid (80,000 to 120,000)\n",
    "# 2: high (120,000 and above)\n",
    "\n",
    "df2.salary_label = df2.salary_label.map(lambda x: 2 if x == 'high' else(1 if x =='mid' else 0))\n",
    "df2.reset_index(inplace=True, drop=True)"
   ]
  },
  {
   "cell_type": "code",
   "execution_count": 18,
   "id": "aging-reducing",
   "metadata": {},
   "outputs": [],
   "source": [
    "# define predictors and target\n",
    "\n",
    "X = df2[['city','suburb','industry','department','employment_type','title','detail']]\n",
    "y = df2.salary_label"
   ]
  },
  {
   "cell_type": "code",
   "execution_count": 19,
   "id": "prostate-accommodation",
   "metadata": {},
   "outputs": [
    {
     "data": {
      "text/plain": [
       "1    0.371930\n",
       "0    0.326901\n",
       "2    0.301170\n",
       "Name: salary_label, dtype: float64"
      ]
     },
     "execution_count": 19,
     "metadata": {},
     "output_type": "execute_result"
    }
   ],
   "source": [
    "df2.salary_label.value_counts(normalize=True)\n",
    "# baseline is 37%"
   ]
  },
  {
   "cell_type": "code",
   "execution_count": 20,
   "id": "weekly-freeware",
   "metadata": {},
   "outputs": [
    {
     "name": "stderr",
     "output_type": "stream",
     "text": [
      "/opt/anaconda3/lib/python3.7/site-packages/ipykernel_launcher.py:3: SettingWithCopyWarning: \n",
      "A value is trying to be set on a copy of a slice from a DataFrame.\n",
      "Try using .loc[row_indexer,col_indexer] = value instead\n",
      "\n",
      "See the caveats in the documentation: https://pandas.pydata.org/pandas-docs/stable/user_guide/indexing.html#returning-a-view-versus-a-copy\n",
      "  This is separate from the ipykernel package so we can avoid doing imports until\n",
      "/opt/anaconda3/lib/python3.7/site-packages/pandas/core/frame.py:4312: SettingWithCopyWarning: \n",
      "A value is trying to be set on a copy of a slice from a DataFrame\n",
      "\n",
      "See the caveats in the documentation: https://pandas.pydata.org/pandas-docs/stable/user_guide/indexing.html#returning-a-view-versus-a-copy\n",
      "  errors=errors,\n"
     ]
    },
    {
     "data": {
      "text/html": [
       "<div>\n",
       "<style scoped>\n",
       "    .dataframe tbody tr th:only-of-type {\n",
       "        vertical-align: middle;\n",
       "    }\n",
       "\n",
       "    .dataframe tbody tr th {\n",
       "        vertical-align: top;\n",
       "    }\n",
       "\n",
       "    .dataframe thead th {\n",
       "        text-align: right;\n",
       "    }\n",
       "</style>\n",
       "<table border=\"1\" class=\"dataframe tex2jax_ignore\">\n",
       "  <thead>\n",
       "    <tr style=\"text-align: right;\">\n",
       "      <th></th>\n",
       "      <th>city</th>\n",
       "      <th>suburb</th>\n",
       "      <th>industry</th>\n",
       "      <th>department</th>\n",
       "      <th>employment_type</th>\n",
       "      <th>merged_text</th>\n",
       "    </tr>\n",
       "  </thead>\n",
       "  <tbody>\n",
       "    <tr>\n",
       "      <th>0</th>\n",
       "      <td>Brisbane</td>\n",
       "      <td>CBD &amp; Inner Suburbs</td>\n",
       "      <td>Information &amp; Communication Technology</td>\n",
       "      <td>Business/Systems Analysts</td>\n",
       "      <td>Full Time</td>\n",
       "      <td>Data &amp; Reporting Analyst THE TONY WHITE GROUP:...</td>\n",
       "    </tr>\n",
       "    <tr>\n",
       "      <th>1</th>\n",
       "      <td>Sydney</td>\n",
       "      <td>CBD, Inner West &amp; Eastern Suburbs</td>\n",
       "      <td>Government &amp; Defence</td>\n",
       "      <td>Government - Federal</td>\n",
       "      <td>Full Time</td>\n",
       "      <td>Data Analyst \\n Work on a high impact transfor...</td>\n",
       "    </tr>\n",
       "  </tbody>\n",
       "</table>\n",
       "</div>"
      ],
      "text/plain": [
       "       city                             suburb  \\\n",
       "0  Brisbane                CBD & Inner Suburbs   \n",
       "1    Sydney  CBD, Inner West & Eastern Suburbs   \n",
       "\n",
       "                                 industry                 department  \\\n",
       "0  Information & Communication Technology  Business/Systems Analysts   \n",
       "1                    Government & Defence       Government - Federal   \n",
       "\n",
       "  employment_type                                        merged_text  \n",
       "0       Full Time  Data & Reporting Analyst THE TONY WHITE GROUP:...  \n",
       "1       Full Time  Data Analyst \\n Work on a high impact transfor...  "
      ]
     },
     "execution_count": 20,
     "metadata": {},
     "output_type": "execute_result"
    }
   ],
   "source": [
    "# merge title and detail together\n",
    "\n",
    "X['merged_text'] = X.title + ' ' + X.detail\n",
    "\n",
    "X.drop(['title','detail'], axis = 1, inplace=True)\n",
    "X.head(2)"
   ]
  },
  {
   "cell_type": "code",
   "execution_count": 21,
   "id": "gross-encoding",
   "metadata": {},
   "outputs": [
    {
     "data": {
      "text/html": [
       "<div>\n",
       "<style scoped>\n",
       "    .dataframe tbody tr th:only-of-type {\n",
       "        vertical-align: middle;\n",
       "    }\n",
       "\n",
       "    .dataframe tbody tr th {\n",
       "        vertical-align: top;\n",
       "    }\n",
       "\n",
       "    .dataframe thead th {\n",
       "        text-align: right;\n",
       "    }\n",
       "</style>\n",
       "<table border=\"1\" class=\"dataframe tex2jax_ignore\">\n",
       "  <thead>\n",
       "    <tr style=\"text-align: right;\">\n",
       "      <th></th>\n",
       "      <th>merged_text</th>\n",
       "      <th>city_ACT</th>\n",
       "      <th>city_Adelaide</th>\n",
       "      <th>city_Albany &amp; Great Southern</th>\n",
       "      <th>city_Albury Area</th>\n",
       "      <th>city_Asia Pacific</th>\n",
       "      <th>city_Ballarat &amp; Central Highlands</th>\n",
       "      <th>city_Bendigo, Goldfields &amp; Macedon Ranges</th>\n",
       "      <th>city_Blue Mountains &amp; Central West</th>\n",
       "      <th>city_Brisbane</th>\n",
       "      <th>...</th>\n",
       "      <th>department_Underwriting</th>\n",
       "      <th>department_Warehousing, Storage &amp; Distribution</th>\n",
       "      <th>department_Water &amp; Waste Engineering</th>\n",
       "      <th>department_Web &amp; Interaction Design</th>\n",
       "      <th>department_Web Development &amp; Production</th>\n",
       "      <th>department_Workers' Compensation</th>\n",
       "      <th>employment_type_Casual/Vacation</th>\n",
       "      <th>employment_type_Contract/Temp</th>\n",
       "      <th>employment_type_Full Time</th>\n",
       "      <th>employment_type_Part Time</th>\n",
       "    </tr>\n",
       "  </thead>\n",
       "  <tbody>\n",
       "    <tr>\n",
       "      <th>0</th>\n",
       "      <td>Data &amp; Reporting Analyst THE TONY WHITE GROUP:...</td>\n",
       "      <td>0</td>\n",
       "      <td>0</td>\n",
       "      <td>0</td>\n",
       "      <td>0</td>\n",
       "      <td>0</td>\n",
       "      <td>0</td>\n",
       "      <td>0</td>\n",
       "      <td>0</td>\n",
       "      <td>1</td>\n",
       "      <td>...</td>\n",
       "      <td>0</td>\n",
       "      <td>0</td>\n",
       "      <td>0</td>\n",
       "      <td>0</td>\n",
       "      <td>0</td>\n",
       "      <td>0</td>\n",
       "      <td>0</td>\n",
       "      <td>0</td>\n",
       "      <td>1</td>\n",
       "      <td>0</td>\n",
       "    </tr>\n",
       "    <tr>\n",
       "      <th>1</th>\n",
       "      <td>Data Analyst \\n Work on a high impact transfor...</td>\n",
       "      <td>0</td>\n",
       "      <td>0</td>\n",
       "      <td>0</td>\n",
       "      <td>0</td>\n",
       "      <td>0</td>\n",
       "      <td>0</td>\n",
       "      <td>0</td>\n",
       "      <td>0</td>\n",
       "      <td>0</td>\n",
       "      <td>...</td>\n",
       "      <td>0</td>\n",
       "      <td>0</td>\n",
       "      <td>0</td>\n",
       "      <td>0</td>\n",
       "      <td>0</td>\n",
       "      <td>0</td>\n",
       "      <td>0</td>\n",
       "      <td>0</td>\n",
       "      <td>1</td>\n",
       "      <td>0</td>\n",
       "    </tr>\n",
       "  </tbody>\n",
       "</table>\n",
       "<p>2 rows × 241 columns</p>\n",
       "</div>"
      ],
      "text/plain": [
       "                                         merged_text  city_ACT  city_Adelaide  \\\n",
       "0  Data & Reporting Analyst THE TONY WHITE GROUP:...         0              0   \n",
       "1  Data Analyst \\n Work on a high impact transfor...         0              0   \n",
       "\n",
       "   city_Albany & Great Southern  city_Albury Area  city_Asia Pacific  \\\n",
       "0                             0                 0                  0   \n",
       "1                             0                 0                  0   \n",
       "\n",
       "   city_Ballarat & Central Highlands  \\\n",
       "0                                  0   \n",
       "1                                  0   \n",
       "\n",
       "   city_Bendigo, Goldfields & Macedon Ranges  \\\n",
       "0                                          0   \n",
       "1                                          0   \n",
       "\n",
       "   city_Blue Mountains & Central West  city_Brisbane  ...  \\\n",
       "0                                   0              1  ...   \n",
       "1                                   0              0  ...   \n",
       "\n",
       "   department_Underwriting  department_Warehousing, Storage & Distribution  \\\n",
       "0                        0                                               0   \n",
       "1                        0                                               0   \n",
       "\n",
       "   department_Water & Waste Engineering  department_Web & Interaction Design  \\\n",
       "0                                     0                                    0   \n",
       "1                                     0                                    0   \n",
       "\n",
       "   department_Web Development & Production  department_Workers' Compensation  \\\n",
       "0                                        0                                 0   \n",
       "1                                        0                                 0   \n",
       "\n",
       "   employment_type_Casual/Vacation  employment_type_Contract/Temp  \\\n",
       "0                                0                              0   \n",
       "1                                0                              0   \n",
       "\n",
       "   employment_type_Full Time  employment_type_Part Time  \n",
       "0                          1                          0  \n",
       "1                          1                          0  \n",
       "\n",
       "[2 rows x 241 columns]"
      ]
     },
     "execution_count": 21,
     "metadata": {},
     "output_type": "execute_result"
    }
   ],
   "source": [
    "# dummy city, suburb, industry, department, employment_type, title_label\n",
    "dummy_cols = ['city','suburb','industry','department','employment_type']\n",
    "dummied_X = pd.get_dummies(X, columns=dummy_cols)\n",
    "dummied_X.head(2)"
   ]
  },
  {
   "cell_type": "code",
   "execution_count": 22,
   "id": "handled-translator",
   "metadata": {},
   "outputs": [
    {
     "data": {
      "text/plain": [
       "((4104, 241), (1026, 241))"
      ]
     },
     "execution_count": 22,
     "metadata": {},
     "output_type": "execute_result"
    }
   ],
   "source": [
    "X_train, X_test, y_train, y_test = train_test_split(dummied_X, y, test_size=.2, stratify=y, random_state=42)\n",
    "X_train.shape, X_test.shape"
   ]
  },
  {
   "cell_type": "code",
   "execution_count": 23,
   "id": "liquid-windsor",
   "metadata": {},
   "outputs": [],
   "source": [
    "jd_train = X_train.merged_text\n",
    "jd_test = X_test.merged_text"
   ]
  },
  {
   "cell_type": "markdown",
   "id": "major-italic",
   "metadata": {},
   "source": [
    "#### generate 2 document term matrixes with different ngram range, merge back to dummies variables"
   ]
  },
  {
   "cell_type": "code",
   "execution_count": 24,
   "id": "agreed-monitor",
   "metadata": {},
   "outputs": [
    {
     "data": {
      "text/plain": [
       "((4104, 5240), (1026, 5240))"
      ]
     },
     "execution_count": 24,
     "metadata": {},
     "output_type": "execute_result"
    }
   ],
   "source": [
    "# initialise CountVectorizer 1\n",
    "cv1 = CountVectorizer(max_df=0.3, max_features=5000, min_df=1, ngram_range=(1,1), stop_words='english')\n",
    "\n",
    "# transform train and test dataset\n",
    "jd_train_cv1 = cv1.fit_transform(jd_train)\n",
    "jd_test_cv1 = cv1.transform(jd_test)\n",
    "\n",
    "# merge transformed dtm to dummied features\n",
    "cv1_train = pd.DataFrame(data = jd_train_cv1.toarray(), columns=cv1.get_feature_names())\n",
    "cv1_test = pd.DataFrame(data = jd_test_cv1.toarray(), columns=cv1.get_feature_names())\n",
    "\n",
    "X_train_cv1 = X_train.merge(cv1_train, on = X_train.index)\n",
    "X_train_cv1.drop(['key_0','merged_text'], axis =1, inplace=True)\n",
    "\n",
    "X_test_cv1 = X_test.merge(cv1_test, on = X_test.index)\n",
    "X_test_cv1.drop(['key_0','merged_text'], axis =1, inplace=True)\n",
    "\n",
    "# normalise train and test dataset\n",
    "Xn_train_cv1 = Normalizer().fit_transform(X_train_cv1)\n",
    "Xn_test_cv1 = Normalizer().transform(X_test_cv1)   \n",
    "\n",
    "X_train_cv1.shape, X_test_cv1.shape"
   ]
  },
  {
   "cell_type": "code",
   "execution_count": 25,
   "id": "stone-frost",
   "metadata": {},
   "outputs": [
    {
     "data": {
      "text/plain": [
       "((4104, 10240), (1026, 10240))"
      ]
     },
     "execution_count": 25,
     "metadata": {},
     "output_type": "execute_result"
    }
   ],
   "source": [
    "# initialise CountVectorizer 2 and repeat above steps\n",
    "cv2 = CountVectorizer(max_df=0.3, max_features=10000, min_df=1, ngram_range=(1,2), stop_words='english')\n",
    "\n",
    "jd_train_cv2 = cv2.fit_transform(jd_train)\n",
    "jd_test_cv2 = cv2.transform(jd_test)\n",
    "\n",
    "cv2_train = pd.DataFrame(data = jd_train_cv2.toarray(), columns=cv2.get_feature_names())\n",
    "cv2_test = pd.DataFrame(data = jd_test_cv2.toarray(), columns=cv2.get_feature_names())\n",
    "\n",
    "X_train_cv2 = X_train.merge(cv2_train, on = X_train.index)\n",
    "X_train_cv2.drop(['key_0','merged_text'], axis =1, inplace=True)\n",
    "\n",
    "X_test_cv2 = X_test.merge(cv2_test, on = X_test.index)\n",
    "X_test_cv2.drop(['key_0','merged_text'], axis =1, inplace=True)\n",
    "\n",
    "# normalise\n",
    "Xn_train_cv2 = Normalizer().fit_transform(X_train_cv2)\n",
    "Xn_test_cv2 = Normalizer().transform(X_test_cv2)  \n",
    "\n",
    "X_train_cv2.shape, X_test_cv2.shape"
   ]
  },
  {
   "cell_type": "code",
   "execution_count": 26,
   "id": "accompanied-warner",
   "metadata": {},
   "outputs": [],
   "source": [
    "# create a function to call classification report faster\n",
    "def class_report(model, y_true, X_test):\n",
    "    print(metrics.classification_report(y_true, model.predict(X_test)))"
   ]
  },
  {
   "cell_type": "markdown",
   "id": "according-logan",
   "metadata": {},
   "source": [
    "#### fit logistic regression on both transformed dataset"
   ]
  },
  {
   "cell_type": "code",
   "execution_count": 27,
   "id": "authentic-turtle",
   "metadata": {},
   "outputs": [
    {
     "name": "stdout",
     "output_type": "stream",
     "text": [
      "Fitting 5 folds for each of 20 candidates, totalling 100 fits\n"
     ]
    },
    {
     "data": {
      "text/plain": [
       "GridSearchCV(cv=5, estimator=LogisticRegression(random_state=42), n_jobs=-1,\n",
       "             param_grid={'C': [0.001, 0.01, 0.1, 1],\n",
       "                         'max_iter': [100, 200, 300, 400, 500]},\n",
       "             verbose=1)"
      ]
     },
     "execution_count": 27,
     "metadata": {},
     "output_type": "execute_result"
    }
   ],
   "source": [
    "lr_gs1 = GridSearchCV(LogisticRegression(random_state=42), \n",
    "                       param_grid={\"C\":[0.001,0.01,0.1,1], 'max_iter':[100,200,300,400,500]},\n",
    "                      cv = 5,\n",
    "                      n_jobs=-1,\n",
    "                      verbose=1)\n",
    "\n",
    "lr_gs1.fit(Xn_train_cv1, y_train)"
   ]
  },
  {
   "cell_type": "code",
   "execution_count": 28,
   "id": "possible-blend",
   "metadata": {},
   "outputs": [
    {
     "name": "stdout",
     "output_type": "stream",
     "text": [
      "              precision    recall  f1-score   support\n",
      "\n",
      "           0       0.67      0.67      0.67       335\n",
      "           1       0.57      0.61      0.59       382\n",
      "           2       0.70      0.65      0.67       309\n",
      "\n",
      "    accuracy                           0.64      1026\n",
      "   macro avg       0.65      0.64      0.64      1026\n",
      "weighted avg       0.64      0.64      0.64      1026\n",
      "\n"
     ]
    }
   ],
   "source": [
    "class_report(lr_gs1, y_test, Xn_test_cv1)"
   ]
  },
  {
   "cell_type": "code",
   "execution_count": 29,
   "id": "prepared-arthritis",
   "metadata": {},
   "outputs": [
    {
     "name": "stdout",
     "output_type": "stream",
     "text": [
      "Fitting 5 folds for each of 20 candidates, totalling 100 fits\n",
      "              precision    recall  f1-score   support\n",
      "\n",
      "           0       0.69      0.67      0.68       335\n",
      "           1       0.58      0.62      0.60       382\n",
      "           2       0.69      0.66      0.67       309\n",
      "\n",
      "    accuracy                           0.65      1026\n",
      "   macro avg       0.66      0.65      0.65      1026\n",
      "weighted avg       0.65      0.65      0.65      1026\n",
      "\n"
     ]
    }
   ],
   "source": [
    "lr_gs2 = GridSearchCV(LogisticRegression(random_state=42), \n",
    "                       param_grid={\"C\":[0.001,0.01,0.1,1], 'max_iter':[100,200,300,400,500]},\n",
    "                      cv = 5,\n",
    "                      n_jobs=-1,\n",
    "                      verbose=1)\n",
    "\n",
    "lr_gs2.fit(Xn_train_cv2, y_train)\n",
    "class_report(lr_gs2, y_test, Xn_test_cv2)"
   ]
  },
  {
   "cell_type": "code",
   "execution_count": 30,
   "id": "encouraging-value",
   "metadata": {},
   "outputs": [
    {
     "data": {
      "text/plain": [
       "0.635478149787588"
      ]
     },
     "execution_count": 30,
     "metadata": {},
     "output_type": "execute_result"
    }
   ],
   "source": [
    "lr_gs2.best_score_"
   ]
  },
  {
   "cell_type": "markdown",
   "id": "dependent-croatia",
   "metadata": {},
   "source": [
    "#### Logistic regression does better on the second dataset where ngram_range is (1,2), inspect the coefficients and visualise the top features/tokens"
   ]
  },
  {
   "cell_type": "code",
   "execution_count": 31,
   "id": "minimal-disposal",
   "metadata": {},
   "outputs": [],
   "source": [
    "tokens = X_train_cv2.columns\n",
    "importances_low = lr_gs2.best_estimator_.coef_[0]\n",
    "importances_mid = lr_gs2.best_estimator_.coef_[1]\n",
    "importances_high = lr_gs2.best_estimator_.coef_[2]\n",
    "\n",
    "lr_gs2_df = pd.DataFrame({'token': tokens,\n",
    "                           'low_coef': importances_low,\n",
    "                           'low_coef_abs': abs(importances_low),\n",
    "                           'mid_coef': importances_mid,\n",
    "                           'mid_coef_abs': abs(importances_mid),\n",
    "                           'high_coef': importances_high,\n",
    "                           'high_coef_abs': abs(importances_high),})"
   ]
  },
  {
   "cell_type": "code",
   "execution_count": 32,
   "id": "exact-addition",
   "metadata": {},
   "outputs": [
    {
     "data": {
      "image/png": "[encoded data removed]",
      "text/plain": [
       "<Figure size 360x360 with 1 Axes>"
      ]
     },
     "metadata": {
      "needs_background": "light"
     },
     "output_type": "display_data"
    }
   ],
   "source": [
    "low_salary = lr_gs2_df[['token','low_coef','low_coef_abs']].sort_values('low_coef', ascending=False)\n",
    "low_salary_top = low_salary[:10]\n",
    "low_salary_bottom = low_salary[-10:]\n",
    "low_salary_merge = pd.concat([low_salary_top, low_salary_bottom])\n",
    "low_salary_merge.plot(kind = 'barh',\n",
    "              x = 'token',\n",
    "              y = 'low_coef',\n",
    "              title = 'low salary indicators',\n",
    "              color = 'green',figsize = (5,5));"
   ]
  },
  {
   "cell_type": "code",
   "execution_count": 33,
   "id": "mechanical-glasgow",
   "metadata": {},
   "outputs": [
    {
     "data": {
      "image/png": "[encoded data removed]",
      "text/plain": [
       "<Figure size 360x360 with 1 Axes>"
      ]
     },
     "metadata": {
      "needs_background": "light"
     },
     "output_type": "display_data"
    }
   ],
   "source": [
    "mid_salary = lr_gs2_df[['token','mid_coef','mid_coef_abs']].sort_values('mid_coef', ascending=False)\n",
    "\n",
    "mid_salary_top = mid_salary[:10]\n",
    "mid_salary_bottom = mid_salary[-10:]\n",
    "mid_salary_merge = pd.concat([mid_salary_top, mid_salary_bottom])\n",
    "mid_salary_merge.plot(kind = 'barh',\n",
    "              x = 'token',\n",
    "              y = 'mid_coef',\n",
    "              title = 'mid salary indicators',\n",
    "              color = 'blue',figsize = (5,5));"
   ]
  },
  {
   "cell_type": "code",
   "execution_count": 34,
   "id": "subtle-factory",
   "metadata": {},
   "outputs": [
    {
     "data": {
      "image/png": "[encoded data removed]",
      "text/plain": [
       "<Figure size 360x360 with 1 Axes>"
      ]
     },
     "metadata": {
      "needs_background": "light"
     },
     "output_type": "display_data"
    }
   ],
   "source": [
    "high_salary = lr_gs2_df[['token','high_coef','high_coef_abs']].sort_values('high_coef', ascending=False)\n",
    "high_salary_top = high_salary[:10]\n",
    "high_salary_bottom = high_salary[-10:]\n",
    "high_salary_merge = pd.concat([high_salary_top, high_salary_bottom])\n",
    "high_salary_merge.plot(kind = 'barh',\n",
    "              x = 'token',\n",
    "              y = 'high_coef',\n",
    "              title = 'high salary indicators',\n",
    "              color = 'red',figsize = (5,5));"
   ]
  },
  {
   "cell_type": "code",
   "execution_count": 35,
   "id": "vocal-confirmation",
   "metadata": {},
   "outputs": [
    {
     "name": "stderr",
     "output_type": "stream",
     "text": [
      "/opt/anaconda3/lib/python3.7/site-packages/ipykernel_launcher.py:4: SettingWithCopyWarning: \n",
      "A value is trying to be set on a copy of a slice from a DataFrame.\n",
      "Try using .loc[row_indexer,col_indexer] = value instead\n",
      "\n",
      "See the caveats in the documentation: https://pandas.pydata.org/pandas-docs/stable/user_guide/indexing.html#returning-a-view-versus-a-copy\n",
      "  after removing the cwd from sys.path.\n"
     ]
    },
    {
     "data": {
      "text/plain": [
       "<AxesSubplot:ylabel='token'>"
      ]
     },
     "execution_count": 35,
     "metadata": {},
     "output_type": "execute_result"
    },
    {
     "data": {
      "image/png": "[encoded data removed]",
      "text/plain": [
       "<Figure size 720x360 with 1 Axes>"
      ]
     },
     "metadata": {
      "needs_background": "light"
     },
     "output_type": "display_data"
    }
   ],
   "source": [
    "city_idx = [idx for idx, tk in enumerate(lr_gs2_df.token) if 'city_' in tk]\n",
    "city_importance = lr_gs2_df.iloc[city_idx,:]\n",
    "\n",
    "city_importance['total_coef'] = city_importance.low_coef_abs + city_importance.mid_coef_abs + city_importance.high_coef_abs\n",
    "city_importance.sort_values('total_coef', ascending=False)[:10].plot(kind='barh',x='token', y=['low_coef','mid_coef','high_coef'], figsize = (10,5))"
   ]
  },
  {
   "cell_type": "code",
   "execution_count": 36,
   "id": "extensive-paris",
   "metadata": {},
   "outputs": [
    {
     "name": "stderr",
     "output_type": "stream",
     "text": [
      "/opt/anaconda3/lib/python3.7/site-packages/ipykernel_launcher.py:3: SettingWithCopyWarning: \n",
      "A value is trying to be set on a copy of a slice from a DataFrame.\n",
      "Try using .loc[row_indexer,col_indexer] = value instead\n",
      "\n",
      "See the caveats in the documentation: https://pandas.pydata.org/pandas-docs/stable/user_guide/indexing.html#returning-a-view-versus-a-copy\n",
      "  This is separate from the ipykernel package so we can avoid doing imports until\n"
     ]
    },
    {
     "data": {
      "text/plain": [
       "<AxesSubplot:ylabel='token'>"
      ]
     },
     "execution_count": 36,
     "metadata": {},
     "output_type": "execute_result"
    },
    {
     "data": {
      "image/png": "[encoded data removed]",
      "text/plain": [
       "<Figure size 720x576 with 1 Axes>"
      ]
     },
     "metadata": {
      "needs_background": "light"
     },
     "output_type": "display_data"
    }
   ],
   "source": [
    "industry_idx = [idx for idx, tk in enumerate(lr_gs2_df.token) if 'industry_' in tk]\n",
    "industry_importance = lr_gs2_df.iloc[industry_idx,:]\n",
    "industry_importance['total_coef'] = industry_importance.low_coef_abs + industry_importance.mid_coef_abs + industry_importance.high_coef_abs\n",
    "industry_importance.sort_values('total_coef', ascending=False).plot(kind='barh',x='token', y=['low_coef','mid_coef','high_coef'], figsize = (10,8))"
   ]
  },
  {
   "cell_type": "markdown",
   "id": "important-cooking",
   "metadata": {},
   "source": [
    "#### fit RandomForestClassifier on both transformed dataset"
   ]
  },
  {
   "cell_type": "code",
   "execution_count": 37,
   "id": "prescription-palestine",
   "metadata": {},
   "outputs": [
    {
     "name": "stdout",
     "output_type": "stream",
     "text": [
      "Fitting 5 folds for each of 16 candidates, totalling 80 fits\n",
      "              precision    recall  f1-score   support\n",
      "\n",
      "           0       0.78      0.50      0.61       335\n",
      "           1       0.52      0.76      0.62       382\n",
      "           2       0.72      0.61      0.66       309\n",
      "\n",
      "    accuracy                           0.63      1026\n",
      "   macro avg       0.67      0.62      0.63      1026\n",
      "weighted avg       0.67      0.63      0.63      1026\n",
      "\n"
     ]
    }
   ],
   "source": [
    "# fit first dateset\n",
    "\n",
    "rfc_params = {'max_depth': [8,12],\n",
    "             'max_features':[10,20],\n",
    "             'min_samples_split':[5,8],\n",
    "             'n_estimators': [1000,1500]}\n",
    "\n",
    "rfc_gs1 = GridSearchCV(RandomForestClassifier(random_state=42), rfc_params, cv = 5, n_jobs = -1, verbose=1)\n",
    "rfc_gs1.fit(Xn_train_cv1, y_train)\n",
    "\n",
    "class_report(rfc_gs1, y_test, Xn_test_cv1)"
   ]
  },
  {
   "cell_type": "code",
   "execution_count": 38,
   "id": "greek-popularity",
   "metadata": {},
   "outputs": [
    {
     "data": {
      "text/plain": [
       "(RandomForestClassifier(max_depth=12, max_features=20, min_samples_split=5,\n",
       "                        n_estimators=1500, random_state=42),\n",
       " 0.6269501797332223)"
      ]
     },
     "execution_count": 38,
     "metadata": {},
     "output_type": "execute_result"
    }
   ],
   "source": [
    "rfc_gs1.best_estimator_, rfc_gs1.best_score_"
   ]
  },
  {
   "cell_type": "code",
   "execution_count": 39,
   "id": "endless-dylan",
   "metadata": {},
   "outputs": [
    {
     "name": "stdout",
     "output_type": "stream",
     "text": [
      "Fitting 5 folds for each of 16 candidates, totalling 80 fits\n",
      "              precision    recall  f1-score   support\n",
      "\n",
      "           0       0.80      0.43      0.56       335\n",
      "           1       0.49      0.83      0.62       382\n",
      "           2       0.77      0.51      0.62       309\n",
      "\n",
      "    accuracy                           0.60      1026\n",
      "   macro avg       0.69      0.59      0.60      1026\n",
      "weighted avg       0.68      0.60      0.60      1026\n",
      "\n"
     ]
    }
   ],
   "source": [
    "# fit second dataset\n",
    "\n",
    "rfc_gs2 = GridSearchCV(RandomForestClassifier(random_state=42), rfc_params, cv = 5, n_jobs = -1, verbose=1)\n",
    "rfc_gs2.fit(Xn_train_cv2, y_train)\n",
    "\n",
    "class_report(rfc_gs2, y_test, Xn_test_cv2)"
   ]
  },
  {
   "cell_type": "code",
   "execution_count": 40,
   "id": "naughty-adjustment",
   "metadata": {},
   "outputs": [
    {
     "data": {
      "text/plain": [
       "(RandomForestClassifier(max_depth=12, max_features=20, min_samples_split=8,\n",
       "                        n_estimators=1500, random_state=42),\n",
       " 0.5996598437360744)"
      ]
     },
     "execution_count": 40,
     "metadata": {},
     "output_type": "execute_result"
    }
   ],
   "source": [
    "rfc_gs2.best_estimator_, rfc_gs2.best_score_"
   ]
  },
  {
   "cell_type": "markdown",
   "id": "determined-firewall",
   "metadata": {},
   "source": [
    "#### randomforest classifier does better on ngram range = (1,1), inspect the feature importance"
   ]
  },
  {
   "cell_type": "code",
   "execution_count": 41,
   "id": "russian-geography",
   "metadata": {},
   "outputs": [
    {
     "data": {
      "text/html": [
       "<div>\n",
       "<style scoped>\n",
       "    .dataframe tbody tr th:only-of-type {\n",
       "        vertical-align: middle;\n",
       "    }\n",
       "\n",
       "    .dataframe tbody tr th {\n",
       "        vertical-align: top;\n",
       "    }\n",
       "\n",
       "    .dataframe thead th {\n",
       "        text-align: right;\n",
       "    }\n",
       "</style>\n",
       "<table border=\"1\" class=\"dataframe tex2jax_ignore\">\n",
       "  <thead>\n",
       "    <tr style=\"text-align: right;\">\n",
       "      <th></th>\n",
       "      <th>token</th>\n",
       "      <th>importance</th>\n",
       "    </tr>\n",
       "  </thead>\n",
       "  <tbody>\n",
       "    <tr>\n",
       "      <th>237</th>\n",
       "      <td>employment_type_Contract/Temp</td>\n",
       "      <td>0.011426</td>\n",
       "    </tr>\n",
       "    <tr>\n",
       "      <th>78</th>\n",
       "      <td>industry_Information &amp; Communication Technology</td>\n",
       "      <td>0.010431</td>\n",
       "    </tr>\n",
       "    <tr>\n",
       "      <th>238</th>\n",
       "      <td>employment_type_Full Time</td>\n",
       "      <td>0.010175</td>\n",
       "    </tr>\n",
       "    <tr>\n",
       "      <th>669</th>\n",
       "      <td>architect</td>\n",
       "      <td>0.008400</td>\n",
       "    </tr>\n",
       "    <tr>\n",
       "      <th>674</th>\n",
       "      <td>architecture</td>\n",
       "      <td>0.008326</td>\n",
       "    </tr>\n",
       "    <tr>\n",
       "      <th>96</th>\n",
       "      <td>department_Architects</td>\n",
       "      <td>0.008000</td>\n",
       "    </tr>\n",
       "    <tr>\n",
       "      <th>4483</th>\n",
       "      <td>solution</td>\n",
       "      <td>0.006792</td>\n",
       "    </tr>\n",
       "    <tr>\n",
       "      <th>1389</th>\n",
       "      <td>contract</td>\n",
       "      <td>0.005534</td>\n",
       "    </tr>\n",
       "    <tr>\n",
       "      <th>2691</th>\n",
       "      <td>integration</td>\n",
       "      <td>0.004631</td>\n",
       "    </tr>\n",
       "    <tr>\n",
       "      <th>749</th>\n",
       "      <td>attention</td>\n",
       "      <td>0.004295</td>\n",
       "    </tr>\n",
       "    <tr>\n",
       "      <th>1156</th>\n",
       "      <td>cloud</td>\n",
       "      <td>0.003465</td>\n",
       "    </tr>\n",
       "    <tr>\n",
       "      <th>2888</th>\n",
       "      <td>lead</td>\n",
       "      <td>0.003457</td>\n",
       "    </tr>\n",
       "    <tr>\n",
       "      <th>1936</th>\n",
       "      <td>enterprise</td>\n",
       "      <td>0.003396</td>\n",
       "    </tr>\n",
       "    <tr>\n",
       "      <th>529</th>\n",
       "      <td>agile</td>\n",
       "      <td>0.003295</td>\n",
       "    </tr>\n",
       "    <tr>\n",
       "      <th>0</th>\n",
       "      <td>city_ACT</td>\n",
       "      <td>0.003217</td>\n",
       "    </tr>\n",
       "    <tr>\n",
       "      <th>109</th>\n",
       "      <td>department_Business/Systems Analysts</td>\n",
       "      <td>0.003111</td>\n",
       "    </tr>\n",
       "    <tr>\n",
       "      <th>3235</th>\n",
       "      <td>month</td>\n",
       "      <td>0.003105</td>\n",
       "    </tr>\n",
       "    <tr>\n",
       "      <th>2018</th>\n",
       "      <td>excel</td>\n",
       "      <td>0.003082</td>\n",
       "    </tr>\n",
       "    <tr>\n",
       "      <th>800</th>\n",
       "      <td>aws</td>\n",
       "      <td>0.003079</td>\n",
       "    </tr>\n",
       "    <tr>\n",
       "      <th>3382</th>\n",
       "      <td>office</td>\n",
       "      <td>0.002950</td>\n",
       "    </tr>\n",
       "  </tbody>\n",
       "</table>\n",
       "</div>"
      ],
      "text/plain": [
       "                                                token  importance\n",
       "237                     employment_type_Contract/Temp    0.011426\n",
       "78    industry_Information & Communication Technology    0.010431\n",
       "238                         employment_type_Full Time    0.010175\n",
       "669                                         architect    0.008400\n",
       "674                                      architecture    0.008326\n",
       "96                              department_Architects    0.008000\n",
       "4483                                         solution    0.006792\n",
       "1389                                         contract    0.005534\n",
       "2691                                      integration    0.004631\n",
       "749                                         attention    0.004295\n",
       "1156                                            cloud    0.003465\n",
       "2888                                             lead    0.003457\n",
       "1936                                       enterprise    0.003396\n",
       "529                                             agile    0.003295\n",
       "0                                            city_ACT    0.003217\n",
       "109              department_Business/Systems Analysts    0.003111\n",
       "3235                                            month    0.003105\n",
       "2018                                            excel    0.003082\n",
       "800                                               aws    0.003079\n",
       "3382                                           office    0.002950"
      ]
     },
     "execution_count": 41,
     "metadata": {},
     "output_type": "execute_result"
    }
   ],
   "source": [
    "rfc_gs1_df = pd.DataFrame({'token': X_train_cv1.columns,\n",
    "                           'importance': rfc_gs1.best_estimator_.feature_importances_})\n",
    "rfc_gs1_df.sort_values('importance', ascending=False)[:20]"
   ]
  },
  {
   "cell_type": "markdown",
   "id": "stopped-float",
   "metadata": {},
   "source": [
    "#### Try use job description only to predict salary band. If scores are lower, it means information like location, industry, employment type does impact on salary range."
   ]
  },
  {
   "cell_type": "code",
   "execution_count": 42,
   "id": "plastic-logging",
   "metadata": {},
   "outputs": [
    {
     "name": "stderr",
     "output_type": "stream",
     "text": [
      "/opt/anaconda3/lib/python3.7/site-packages/ipykernel_launcher.py:11: SettingWithCopyWarning: \n",
      "A value is trying to be set on a copy of a slice from a DataFrame.\n",
      "Try using .loc[row_indexer,col_indexer] = value instead\n",
      "\n",
      "See the caveats in the documentation: https://pandas.pydata.org/pandas-docs/stable/user_guide/indexing.html#returning-a-view-versus-a-copy\n",
      "  # This is added back by InteractiveShellApp.init_path()\n",
      "/opt/anaconda3/lib/python3.7/site-packages/ipykernel_launcher.py:13: SettingWithCopyWarning: \n",
      "A value is trying to be set on a copy of a slice from a DataFrame.\n",
      "Try using .loc[row_indexer,col_indexer] = value instead\n",
      "\n",
      "See the caveats in the documentation: https://pandas.pydata.org/pandas-docs/stable/user_guide/indexing.html#returning-a-view-versus-a-copy\n",
      "  del sys.path[0]\n"
     ]
    },
    {
     "data": {
      "text/html": [
       "<div>\n",
       "<style scoped>\n",
       "    .dataframe tbody tr th:only-of-type {\n",
       "        vertical-align: middle;\n",
       "    }\n",
       "\n",
       "    .dataframe tbody tr th {\n",
       "        vertical-align: top;\n",
       "    }\n",
       "\n",
       "    .dataframe thead th {\n",
       "        text-align: right;\n",
       "    }\n",
       "</style>\n",
       "<table border=\"1\" class=\"dataframe tex2jax_ignore\">\n",
       "  <thead>\n",
       "    <tr style=\"text-align: right;\">\n",
       "      <th></th>\n",
       "      <th>job_id</th>\n",
       "      <th>title</th>\n",
       "      <th>company</th>\n",
       "      <th>city</th>\n",
       "      <th>suburb</th>\n",
       "      <th>industry</th>\n",
       "      <th>department</th>\n",
       "      <th>salary</th>\n",
       "      <th>salary_label</th>\n",
       "      <th>employment_type</th>\n",
       "      <th>detail</th>\n",
       "      <th>request_url</th>\n",
       "      <th>cleaned_words</th>\n",
       "      <th>cleaned_text</th>\n",
       "    </tr>\n",
       "  </thead>\n",
       "  <tbody>\n",
       "    <tr>\n",
       "      <th>0</th>\n",
       "      <td>52624020</td>\n",
       "      <td>Data &amp; Reporting Analyst</td>\n",
       "      <td>Tony White Group</td>\n",
       "      <td>Brisbane</td>\n",
       "      <td>CBD &amp; Inner Suburbs</td>\n",
       "      <td>Information &amp; Communication Technology</td>\n",
       "      <td>Business/Systems Analysts</td>\n",
       "      <td>None</td>\n",
       "      <td>0</td>\n",
       "      <td>Full Time</td>\n",
       "      <td>THE TONY WHITE GROUP: The Tony White Group (TW...</td>\n",
       "      <td>https://www.seek.com.au/job/52624020?type=stan...</td>\n",
       "      <td>[the, tony, white, group, the, tony, white, gr...</td>\n",
       "      <td>the tony white group the tony white group twg ...</td>\n",
       "    </tr>\n",
       "    <tr>\n",
       "      <th>1</th>\n",
       "      <td>52586658</td>\n",
       "      <td>Data Analyst</td>\n",
       "      <td>None</td>\n",
       "      <td>Sydney</td>\n",
       "      <td>CBD, Inner West &amp; Eastern Suburbs</td>\n",
       "      <td>Government &amp; Defence</td>\n",
       "      <td>Government - Federal</td>\n",
       "      <td>Access to a wide-range of staff benefits</td>\n",
       "      <td>0</td>\n",
       "      <td>Full Time</td>\n",
       "      <td>\\n Work on a high impact transformation using ...</td>\n",
       "      <td>https://www.seek.com.au/job/52586658?type=stan...</td>\n",
       "      <td>[work, on, a, high, impact, transformation, us...</td>\n",
       "      <td>work on a high impact transformation using you...</td>\n",
       "    </tr>\n",
       "  </tbody>\n",
       "</table>\n",
       "</div>"
      ],
      "text/plain": [
       "     job_id                     title           company      city  \\\n",
       "0  52624020  Data & Reporting Analyst  Tony White Group  Brisbane   \n",
       "1  52586658              Data Analyst              None    Sydney   \n",
       "\n",
       "                              suburb                                industry  \\\n",
       "0                CBD & Inner Suburbs  Information & Communication Technology   \n",
       "1  CBD, Inner West & Eastern Suburbs                    Government & Defence   \n",
       "\n",
       "                  department                                    salary  \\\n",
       "0  Business/Systems Analysts                                      None   \n",
       "1       Government - Federal  Access to a wide-range of staff benefits   \n",
       "\n",
       "   salary_label employment_type  \\\n",
       "0             0       Full Time   \n",
       "1             0       Full Time   \n",
       "\n",
       "                                              detail  \\\n",
       "0  THE TONY WHITE GROUP: The Tony White Group (TW...   \n",
       "1  \\n Work on a high impact transformation using ...   \n",
       "\n",
       "                                         request_url  \\\n",
       "0  https://www.seek.com.au/job/52624020?type=stan...   \n",
       "1  https://www.seek.com.au/job/52586658?type=stan...   \n",
       "\n",
       "                                       cleaned_words  \\\n",
       "0  [the, tony, white, group, the, tony, white, gr...   \n",
       "1  [work, on, a, high, impact, transformation, us...   \n",
       "\n",
       "                                        cleaned_text  \n",
       "0  the tony white group the tony white group twg ...  \n",
       "1  work on a high impact transformation using you...  "
      ]
     },
     "execution_count": 42,
     "metadata": {},
     "output_type": "execute_result"
    }
   ],
   "source": [
    "import re \n",
    "from textblob import TextBlob, Word\n",
    "\n",
    "lemmatized_words = []\n",
    "for text in df2.detail:\n",
    "    text = text.lower() \n",
    "    text =re.sub(\"\\\\W+\",\" \",text)   # remove special characters\n",
    "    tb = TextBlob(str(text))\n",
    "    words = [word.lemmatize('n') for word in tb.words]\n",
    "    lemmatized_words.append(words)\n",
    "df2['cleaned_words'] = lemmatized_words\n",
    "\n",
    "df2['cleaned_text'] = df2.cleaned_words.map(lambda x: ' '.join(x))\n",
    "df2.head(2)"
   ]
  },
  {
   "cell_type": "code",
   "execution_count": 43,
   "id": "worse-fellowship",
   "metadata": {},
   "outputs": [
    {
     "data": {
      "text/plain": [
       "((4104,), (1026,))"
      ]
     },
     "execution_count": 43,
     "metadata": {},
     "output_type": "execute_result"
    }
   ],
   "source": [
    "X = df2.cleaned_text\n",
    "y = df2.salary_label\n",
    "\n",
    "X_train, X_test, y_train, y_test = train_test_split(X, y, stratify=y, random_state=42, test_size=.2)\n",
    "X_train.shape, X_test.shape"
   ]
  },
  {
   "cell_type": "code",
   "execution_count": 44,
   "id": "automotive-springer",
   "metadata": {},
   "outputs": [
    {
     "name": "stdout",
     "output_type": "stream",
     "text": [
      "Fitting 5 folds for each of 72 candidates, totalling 360 fits\n",
      "              precision    recall  f1-score   support\n",
      "\n",
      "           0       0.68      0.65      0.67       335\n",
      "           1       0.55      0.57      0.56       382\n",
      "           2       0.65      0.65      0.65       309\n",
      "\n",
      "    accuracy                           0.62      1026\n",
      "   macro avg       0.63      0.63      0.63      1026\n",
      "weighted avg       0.62      0.62      0.62      1026\n",
      "\n"
     ]
    }
   ],
   "source": [
    "lr_pipe1 = Pipeline([('cv', CountVectorizer(stop_words='english')), ('lr', LogisticRegression(max_iter=300))])\n",
    "lr_pipe1_params = {'cv__max_df':[0.1,0.2,0.3],\n",
    "               'cv__min_df':[5,10],\n",
    "               'cv__max_features':[1000,2000],\n",
    "               'cv__ngram_range':[(1,1),(1,2)],\n",
    "               'lr__C':[0.001,0.01,0.1]}\n",
    "\n",
    "lr_gs1 = GridSearchCV(lr_pipe1, param_grid=lr_pipe1_params, cv = 5, n_jobs=-1, verbose = 1)\n",
    "lr_gs1.fit(X_train, y_train)\n",
    "\n",
    "class_report(lr_gs1, y_test, X_test)"
   ]
  },
  {
   "cell_type": "code",
   "execution_count": 45,
   "id": "favorite-isaac",
   "metadata": {},
   "outputs": [
    {
     "data": {
      "text/plain": [
       "({'cv__max_df': 0.3,\n",
       "  'cv__max_features': 2000,\n",
       "  'cv__min_df': 5,\n",
       "  'cv__ngram_range': (1, 1),\n",
       "  'lr__C': 0.001},\n",
       " 0.6028261192477942)"
      ]
     },
     "execution_count": 45,
     "metadata": {},
     "output_type": "execute_result"
    }
   ],
   "source": [
    "lr_gs1.best_params_, lr_gs1.best_score_"
   ]
  },
  {
   "cell_type": "markdown",
   "id": "short-magnitude",
   "metadata": {},
   "source": [
    "### PART2. factors distinguish salary categories\n",
    "    4 categories to predict: analyst, scientist, engineer, architect"
   ]
  },
  {
   "cell_type": "code",
   "execution_count": 46,
   "id": "engaged-cargo",
   "metadata": {},
   "outputs": [
    {
     "name": "stderr",
     "output_type": "stream",
     "text": [
      "/opt/anaconda3/lib/python3.7/site-packages/ipykernel_launcher.py:19: SettingWithCopyWarning: \n",
      "A value is trying to be set on a copy of a slice from a DataFrame.\n",
      "Try using .loc[row_indexer,col_indexer] = value instead\n",
      "\n",
      "See the caveats in the documentation: https://pandas.pydata.org/pandas-docs/stable/user_guide/indexing.html#returning-a-view-versus-a-copy\n"
     ]
    },
    {
     "data": {
      "text/html": [
       "<div>\n",
       "<style scoped>\n",
       "    .dataframe tbody tr th:only-of-type {\n",
       "        vertical-align: middle;\n",
       "    }\n",
       "\n",
       "    .dataframe tbody tr th {\n",
       "        vertical-align: top;\n",
       "    }\n",
       "\n",
       "    .dataframe thead th {\n",
       "        text-align: right;\n",
       "    }\n",
       "</style>\n",
       "<table border=\"1\" class=\"dataframe tex2jax_ignore\">\n",
       "  <thead>\n",
       "    <tr style=\"text-align: right;\">\n",
       "      <th></th>\n",
       "      <th>job_id</th>\n",
       "      <th>title</th>\n",
       "      <th>company</th>\n",
       "      <th>city</th>\n",
       "      <th>suburb</th>\n",
       "      <th>industry</th>\n",
       "      <th>department</th>\n",
       "      <th>salary</th>\n",
       "      <th>salary_label</th>\n",
       "      <th>employment_type</th>\n",
       "      <th>detail</th>\n",
       "      <th>request_url</th>\n",
       "      <th>cleaned_words</th>\n",
       "      <th>cleaned_text</th>\n",
       "      <th>title_label</th>\n",
       "    </tr>\n",
       "  </thead>\n",
       "  <tbody>\n",
       "    <tr>\n",
       "      <th>0</th>\n",
       "      <td>52624020</td>\n",
       "      <td>Data &amp; Reporting Analyst</td>\n",
       "      <td>Tony White Group</td>\n",
       "      <td>Brisbane</td>\n",
       "      <td>CBD &amp; Inner Suburbs</td>\n",
       "      <td>Information &amp; Communication Technology</td>\n",
       "      <td>Business/Systems Analysts</td>\n",
       "      <td>None</td>\n",
       "      <td>0</td>\n",
       "      <td>Full Time</td>\n",
       "      <td>THE TONY WHITE GROUP: The Tony White Group (TW...</td>\n",
       "      <td>https://www.seek.com.au/job/52624020?type=stan...</td>\n",
       "      <td>[the, tony, white, group, the, tony, white, gr...</td>\n",
       "      <td>the tony white group the tony white group twg ...</td>\n",
       "      <td>0</td>\n",
       "    </tr>\n",
       "    <tr>\n",
       "      <th>1</th>\n",
       "      <td>52586658</td>\n",
       "      <td>Data Analyst</td>\n",
       "      <td>None</td>\n",
       "      <td>Sydney</td>\n",
       "      <td>CBD, Inner West &amp; Eastern Suburbs</td>\n",
       "      <td>Government &amp; Defence</td>\n",
       "      <td>Government - Federal</td>\n",
       "      <td>Access to a wide-range of staff benefits</td>\n",
       "      <td>0</td>\n",
       "      <td>Full Time</td>\n",
       "      <td>\\n Work on a high impact transformation using ...</td>\n",
       "      <td>https://www.seek.com.au/job/52586658?type=stan...</td>\n",
       "      <td>[work, on, a, high, impact, transformation, us...</td>\n",
       "      <td>work on a high impact transformation using you...</td>\n",
       "      <td>0</td>\n",
       "    </tr>\n",
       "  </tbody>\n",
       "</table>\n",
       "</div>"
      ],
      "text/plain": [
       "     job_id                     title           company      city  \\\n",
       "0  52624020  Data & Reporting Analyst  Tony White Group  Brisbane   \n",
       "1  52586658              Data Analyst              None    Sydney   \n",
       "\n",
       "                              suburb                                industry  \\\n",
       "0                CBD & Inner Suburbs  Information & Communication Technology   \n",
       "1  CBD, Inner West & Eastern Suburbs                    Government & Defence   \n",
       "\n",
       "                  department                                    salary  \\\n",
       "0  Business/Systems Analysts                                      None   \n",
       "1       Government - Federal  Access to a wide-range of staff benefits   \n",
       "\n",
       "   salary_label employment_type  \\\n",
       "0             0       Full Time   \n",
       "1             0       Full Time   \n",
       "\n",
       "                                              detail  \\\n",
       "0  THE TONY WHITE GROUP: The Tony White Group (TW...   \n",
       "1  \\n Work on a high impact transformation using ...   \n",
       "\n",
       "                                         request_url  \\\n",
       "0  https://www.seek.com.au/job/52624020?type=stan...   \n",
       "1  https://www.seek.com.au/job/52586658?type=stan...   \n",
       "\n",
       "                                       cleaned_words  \\\n",
       "0  [the, tony, white, group, the, tony, white, gr...   \n",
       "1  [work, on, a, high, impact, transformation, us...   \n",
       "\n",
       "                                        cleaned_text  title_label  \n",
       "0  the tony white group the tony white group twg ...            0  \n",
       "1  work on a high impact transformation using you...            0  "
      ]
     },
     "execution_count": 46,
     "metadata": {},
     "output_type": "execute_result"
    }
   ],
   "source": [
    "# title label\n",
    "# 0: analyst\n",
    "# 1: scientist\n",
    "# 2: engineer\n",
    "# 3: architect\n",
    "\n",
    "title_labels = []\n",
    "for idx, title in enumerate(df2.title):\n",
    "    title = title.lower()\n",
    "    if 'analyst' in title:\n",
    "        title_labels.append(0)\n",
    "    elif 'scientist' in title: \n",
    "        title_labels.append(1)\n",
    "    elif 'engineer' in title:\n",
    "        title_labels.append(2)\n",
    "    elif 'architect' in title:\n",
    "        title_labels.append(3)\n",
    "\n",
    "df2['title_label'] = title_labels\n",
    "\n",
    "df2.head(2)"
   ]
  },
  {
   "cell_type": "code",
   "execution_count": 47,
   "id": "cutting-detail",
   "metadata": {},
   "outputs": [
    {
     "data": {
      "text/plain": [
       "0    0.646004\n",
       "2    0.216569\n",
       "3    0.104094\n",
       "1    0.033333\n",
       "Name: title_label, dtype: float64"
      ]
     },
     "execution_count": 47,
     "metadata": {},
     "output_type": "execute_result"
    }
   ],
   "source": [
    "df2['title_label'].value_counts(normalize=True)\n",
    "# baseline is 64%"
   ]
  },
  {
   "cell_type": "code",
   "execution_count": 48,
   "id": "intimate-equality",
   "metadata": {},
   "outputs": [
    {
     "data": {
      "text/plain": [
       "((4104,), (1026,))"
      ]
     },
     "execution_count": 48,
     "metadata": {},
     "output_type": "execute_result"
    }
   ],
   "source": [
    "XX = df2.cleaned_text\n",
    "yy = df2.title_label\n",
    "\n",
    "XX_train, XX_test, yy_train, yy_test = train_test_split(XX, yy, stratify=y, random_state=42, test_size=.2)\n",
    "XX_train.shape, XX_test.shape"
   ]
  },
  {
   "cell_type": "code",
   "execution_count": 50,
   "id": "productive-heading",
   "metadata": {},
   "outputs": [
    {
     "name": "stdout",
     "output_type": "stream",
     "text": [
      "Fitting 5 folds for each of 54 candidates, totalling 270 fits\n",
      "              precision    recall  f1-score   support\n",
      "\n",
      "           0       0.94      0.98      0.96       638\n",
      "           1       0.96      0.69      0.81        39\n",
      "           2       0.92      0.90      0.91       242\n",
      "           3       0.97      0.87      0.92       107\n",
      "\n",
      "    accuracy                           0.94      1026\n",
      "   macro avg       0.95      0.86      0.90      1026\n",
      "weighted avg       0.94      0.94      0.94      1026\n",
      "\n"
     ]
    }
   ],
   "source": [
    "lr_pipe2 = Pipeline(steps=[('cv', CountVectorizer(stop_words='english')),\n",
    "                ('lr', LogisticRegression(max_iter=300))])\n",
    "\n",
    "lr_pipe2_params = {'cv__max_df': [0.1,0.2,0.3],\n",
    "                  'cv__min_df': [1,2,3],\n",
    "                  'cv__ngram_range': [(1, 1),(1,2)],\n",
    "                  'lr__C': [0.001,0.01,0.1]}\n",
    "\n",
    "lr_pipe2_gs = GridSearchCV(lr_pipe2, param_grid = lr_pipe2_params, cv = 5, n_jobs = -1, verbose = 1)\n",
    "lr_pipe2_gs.fit(XX_train, yy_train)\n",
    "\n",
    "class_report(lr_pipe2_gs, yy_test, XX_test)"
   ]
  },
  {
   "cell_type": "code",
   "execution_count": 51,
   "id": "balanced-halloween",
   "metadata": {},
   "outputs": [
    {
     "data": {
      "text/plain": [
       "({'cv__max_df': 0.3, 'cv__min_df': 3, 'cv__ngram_range': (1, 2), 'lr__C': 0.1},\n",
       " 0.9351855262767002)"
      ]
     },
     "execution_count": 51,
     "metadata": {},
     "output_type": "execute_result"
    }
   ],
   "source": [
    "lr_pipe2_gs.best_params_, lr_pipe2_gs.best_score_"
   ]
  },
  {
   "cell_type": "code",
   "execution_count": 52,
   "id": "actual-liberal",
   "metadata": {},
   "outputs": [],
   "source": [
    "tokens = lr_pipe2_gs.best_estimator_.named_steps['cv'].get_feature_names()\n",
    "analyst_coef = lr_pipe2_gs.best_estimator_.named_steps['lr'].coef_[0]\n",
    "scientist_coef = lr_pipe2_gs.best_estimator_.named_steps['lr'].coef_[1]\n",
    "engineer_coef = lr_pipe2_gs.best_estimator_.named_steps['lr'].coef_[2]\n",
    "architect_coef = lr_pipe2_gs.best_estimator_.named_steps['lr'].coef_[3]\n",
    "\n",
    "lr_pipe2_df = pd.DataFrame({'tokens': tokens,\n",
    "                           'analyst_coef':analyst_coef,\n",
    "                           'scientist_coef': scientist_coef,\n",
    "                           'engineer_coef': engineer_coef,\n",
    "                           'architect_coef': architect_coef,\n",
    "                           })"
   ]
  },
  {
   "cell_type": "code",
   "execution_count": 53,
   "id": "blank-smooth",
   "metadata": {},
   "outputs": [
    {
     "data": {
      "text/html": [
       "<div>\n",
       "<style scoped>\n",
       "    .dataframe tbody tr th:only-of-type {\n",
       "        vertical-align: middle;\n",
       "    }\n",
       "\n",
       "    .dataframe tbody tr th {\n",
       "        vertical-align: top;\n",
       "    }\n",
       "\n",
       "    .dataframe thead th {\n",
       "        text-align: right;\n",
       "    }\n",
       "</style>\n",
       "<table border=\"1\" class=\"dataframe tex2jax_ignore\">\n",
       "  <thead>\n",
       "    <tr style=\"text-align: right;\">\n",
       "      <th></th>\n",
       "      <th>tokens</th>\n",
       "      <th>analyst_coef</th>\n",
       "      <th>scientist_coef</th>\n",
       "      <th>engineer_coef</th>\n",
       "      <th>architect_coef</th>\n",
       "    </tr>\n",
       "  </thead>\n",
       "  <tbody>\n",
       "    <tr>\n",
       "      <th>6417</th>\n",
       "      <td>architect</td>\n",
       "      <td>-0.561885</td>\n",
       "      <td>-0.081549</td>\n",
       "      <td>-0.273015</td>\n",
       "      <td>0.916449</td>\n",
       "    </tr>\n",
       "    <tr>\n",
       "      <th>6553</th>\n",
       "      <td>architecture</td>\n",
       "      <td>-0.401919</td>\n",
       "      <td>-0.078204</td>\n",
       "      <td>-0.117710</td>\n",
       "      <td>0.597832</td>\n",
       "    </tr>\n",
       "    <tr>\n",
       "      <th>70222</th>\n",
       "      <td>solution architect</td>\n",
       "      <td>-0.243154</td>\n",
       "      <td>-0.027230</td>\n",
       "      <td>-0.123033</td>\n",
       "      <td>0.393417</td>\n",
       "    </tr>\n",
       "    <tr>\n",
       "      <th>6519</th>\n",
       "      <td>architectural</td>\n",
       "      <td>-0.195863</td>\n",
       "      <td>-0.020123</td>\n",
       "      <td>0.006742</td>\n",
       "      <td>0.209244</td>\n",
       "    </tr>\n",
       "    <tr>\n",
       "      <th>22737</th>\n",
       "      <td>designing</td>\n",
       "      <td>-0.133581</td>\n",
       "      <td>-0.036531</td>\n",
       "      <td>0.007766</td>\n",
       "      <td>0.162347</td>\n",
       "    </tr>\n",
       "    <tr>\n",
       "      <th>37105</th>\n",
       "      <td>ict</td>\n",
       "      <td>-0.048339</td>\n",
       "      <td>-0.025534</td>\n",
       "      <td>-0.061269</td>\n",
       "      <td>0.135141</td>\n",
       "    </tr>\n",
       "    <tr>\n",
       "      <th>43576</th>\n",
       "      <td>leadership</td>\n",
       "      <td>-0.125616</td>\n",
       "      <td>0.032821</td>\n",
       "      <td>-0.040628</td>\n",
       "      <td>0.133423</td>\n",
       "    </tr>\n",
       "    <tr>\n",
       "      <th>76266</th>\n",
       "      <td>technology solution</td>\n",
       "      <td>-0.087595</td>\n",
       "      <td>-0.017640</td>\n",
       "      <td>-0.020064</td>\n",
       "      <td>0.125299</td>\n",
       "    </tr>\n",
       "    <tr>\n",
       "      <th>14544</th>\n",
       "      <td>cloud</td>\n",
       "      <td>-0.182937</td>\n",
       "      <td>-0.034353</td>\n",
       "      <td>0.093938</td>\n",
       "      <td>0.123351</td>\n",
       "    </tr>\n",
       "    <tr>\n",
       "      <th>66824</th>\n",
       "      <td>sale</td>\n",
       "      <td>-0.066334</td>\n",
       "      <td>-0.039193</td>\n",
       "      <td>-0.014959</td>\n",
       "      <td>0.120486</td>\n",
       "    </tr>\n",
       "  </tbody>\n",
       "</table>\n",
       "</div>"
      ],
      "text/plain": [
       "                    tokens  analyst_coef  scientist_coef  engineer_coef  \\\n",
       "6417             architect     -0.561885       -0.081549      -0.273015   \n",
       "6553          architecture     -0.401919       -0.078204      -0.117710   \n",
       "70222   solution architect     -0.243154       -0.027230      -0.123033   \n",
       "6519         architectural     -0.195863       -0.020123       0.006742   \n",
       "22737            designing     -0.133581       -0.036531       0.007766   \n",
       "37105                  ict     -0.048339       -0.025534      -0.061269   \n",
       "43576           leadership     -0.125616        0.032821      -0.040628   \n",
       "76266  technology solution     -0.087595       -0.017640      -0.020064   \n",
       "14544                cloud     -0.182937       -0.034353       0.093938   \n",
       "66824                 sale     -0.066334       -0.039193      -0.014959   \n",
       "\n",
       "       architect_coef  \n",
       "6417         0.916449  \n",
       "6553         0.597832  \n",
       "70222        0.393417  \n",
       "6519         0.209244  \n",
       "22737        0.162347  \n",
       "37105        0.135141  \n",
       "43576        0.133423  \n",
       "76266        0.125299  \n",
       "14544        0.123351  \n",
       "66824        0.120486  "
      ]
     },
     "execution_count": 53,
     "metadata": {},
     "output_type": "execute_result"
    }
   ],
   "source": [
    "lr_pipe2_df.sort_values('architect_coef', ascending=False)[:10]"
   ]
  },
  {
   "cell_type": "code",
   "execution_count": 54,
   "id": "comic-primary",
   "metadata": {},
   "outputs": [
    {
     "data": {
      "text/html": [
       "<div>\n",
       "<style scoped>\n",
       "    .dataframe tbody tr th:only-of-type {\n",
       "        vertical-align: middle;\n",
       "    }\n",
       "\n",
       "    .dataframe tbody tr th {\n",
       "        vertical-align: top;\n",
       "    }\n",
       "\n",
       "    .dataframe thead th {\n",
       "        text-align: right;\n",
       "    }\n",
       "</style>\n",
       "<table border=\"1\" class=\"dataframe tex2jax_ignore\">\n",
       "  <thead>\n",
       "    <tr style=\"text-align: right;\">\n",
       "      <th></th>\n",
       "      <th>tokens</th>\n",
       "      <th>analyst_coef</th>\n",
       "      <th>scientist_coef</th>\n",
       "      <th>engineer_coef</th>\n",
       "      <th>architect_coef</th>\n",
       "    </tr>\n",
       "  </thead>\n",
       "  <tbody>\n",
       "    <tr>\n",
       "      <th>27427</th>\n",
       "      <td>engineer</td>\n",
       "      <td>-0.672404</td>\n",
       "      <td>-0.088674</td>\n",
       "      <td>1.054585</td>\n",
       "      <td>-0.293508</td>\n",
       "    </tr>\n",
       "    <tr>\n",
       "      <th>27573</th>\n",
       "      <td>engineering</td>\n",
       "      <td>-0.211940</td>\n",
       "      <td>-0.105778</td>\n",
       "      <td>0.296183</td>\n",
       "      <td>0.021535</td>\n",
       "    </tr>\n",
       "    <tr>\n",
       "      <th>20341</th>\n",
       "      <td>data engineer</td>\n",
       "      <td>-0.156079</td>\n",
       "      <td>-0.021141</td>\n",
       "      <td>0.283671</td>\n",
       "      <td>-0.106452</td>\n",
       "    </tr>\n",
       "    <tr>\n",
       "      <th>27501</th>\n",
       "      <td>engineer join</td>\n",
       "      <td>-0.167515</td>\n",
       "      <td>-0.037788</td>\n",
       "      <td>0.250864</td>\n",
       "      <td>-0.045561</td>\n",
       "    </tr>\n",
       "    <tr>\n",
       "      <th>60772</th>\n",
       "      <td>python</td>\n",
       "      <td>-0.143040</td>\n",
       "      <td>0.043758</td>\n",
       "      <td>0.239437</td>\n",
       "      <td>-0.140154</td>\n",
       "    </tr>\n",
       "    <tr>\n",
       "      <th>8684</th>\n",
       "      <td>aws</td>\n",
       "      <td>-0.217490</td>\n",
       "      <td>-0.035972</td>\n",
       "      <td>0.222874</td>\n",
       "      <td>0.030588</td>\n",
       "    </tr>\n",
       "    <tr>\n",
       "      <th>23766</th>\n",
       "      <td>devops</td>\n",
       "      <td>-0.102273</td>\n",
       "      <td>-0.053894</td>\n",
       "      <td>0.210210</td>\n",
       "      <td>-0.054043</td>\n",
       "    </tr>\n",
       "    <tr>\n",
       "      <th>72300</th>\n",
       "      <td>storage</td>\n",
       "      <td>-0.159718</td>\n",
       "      <td>-0.018249</td>\n",
       "      <td>0.200198</td>\n",
       "      <td>-0.022230</td>\n",
       "    </tr>\n",
       "    <tr>\n",
       "      <th>14758</th>\n",
       "      <td>code</td>\n",
       "      <td>-0.121870</td>\n",
       "      <td>-0.078428</td>\n",
       "      <td>0.176937</td>\n",
       "      <td>0.023361</td>\n",
       "    </tr>\n",
       "    <tr>\n",
       "      <th>70018</th>\n",
       "      <td>software</td>\n",
       "      <td>-0.027025</td>\n",
       "      <td>-0.094012</td>\n",
       "      <td>0.170801</td>\n",
       "      <td>-0.049764</td>\n",
       "    </tr>\n",
       "  </tbody>\n",
       "</table>\n",
       "</div>"
      ],
      "text/plain": [
       "              tokens  analyst_coef  scientist_coef  engineer_coef  \\\n",
       "27427       engineer     -0.672404       -0.088674       1.054585   \n",
       "27573    engineering     -0.211940       -0.105778       0.296183   \n",
       "20341  data engineer     -0.156079       -0.021141       0.283671   \n",
       "27501  engineer join     -0.167515       -0.037788       0.250864   \n",
       "60772         python     -0.143040        0.043758       0.239437   \n",
       "8684             aws     -0.217490       -0.035972       0.222874   \n",
       "23766         devops     -0.102273       -0.053894       0.210210   \n",
       "72300        storage     -0.159718       -0.018249       0.200198   \n",
       "14758           code     -0.121870       -0.078428       0.176937   \n",
       "70018       software     -0.027025       -0.094012       0.170801   \n",
       "\n",
       "       architect_coef  \n",
       "27427       -0.293508  \n",
       "27573        0.021535  \n",
       "20341       -0.106452  \n",
       "27501       -0.045561  \n",
       "60772       -0.140154  \n",
       "8684         0.030588  \n",
       "23766       -0.054043  \n",
       "72300       -0.022230  \n",
       "14758        0.023361  \n",
       "70018       -0.049764  "
      ]
     },
     "execution_count": 54,
     "metadata": {},
     "output_type": "execute_result"
    }
   ],
   "source": [
    "lr_pipe2_df.sort_values('engineer_coef', ascending=False)[:10]"
   ]
  },
  {
   "cell_type": "code",
   "execution_count": 55,
   "id": "certified-tsunami",
   "metadata": {},
   "outputs": [
    {
     "data": {
      "text/html": [
       "<div>\n",
       "<style scoped>\n",
       "    .dataframe tbody tr th:only-of-type {\n",
       "        vertical-align: middle;\n",
       "    }\n",
       "\n",
       "    .dataframe tbody tr th {\n",
       "        vertical-align: top;\n",
       "    }\n",
       "\n",
       "    .dataframe thead th {\n",
       "        text-align: right;\n",
       "    }\n",
       "</style>\n",
       "<table border=\"1\" class=\"dataframe tex2jax_ignore\">\n",
       "  <thead>\n",
       "    <tr style=\"text-align: right;\">\n",
       "      <th></th>\n",
       "      <th>tokens</th>\n",
       "      <th>analyst_coef</th>\n",
       "      <th>scientist_coef</th>\n",
       "      <th>engineer_coef</th>\n",
       "      <th>architect_coef</th>\n",
       "    </tr>\n",
       "  </thead>\n",
       "  <tbody>\n",
       "    <tr>\n",
       "      <th>67319</th>\n",
       "      <td>scientist</td>\n",
       "      <td>-0.427659</td>\n",
       "      <td>0.684443</td>\n",
       "      <td>-0.162190</td>\n",
       "      <td>-0.094594</td>\n",
       "    </tr>\n",
       "    <tr>\n",
       "      <th>67220</th>\n",
       "      <td>science</td>\n",
       "      <td>-0.199892</td>\n",
       "      <td>0.345336</td>\n",
       "      <td>0.001203</td>\n",
       "      <td>-0.146647</td>\n",
       "    </tr>\n",
       "    <tr>\n",
       "      <th>20580</th>\n",
       "      <td>data scientist</td>\n",
       "      <td>-0.147763</td>\n",
       "      <td>0.261029</td>\n",
       "      <td>-0.058981</td>\n",
       "      <td>-0.054285</td>\n",
       "    </tr>\n",
       "    <tr>\n",
       "      <th>28731</th>\n",
       "      <td>environmental</td>\n",
       "      <td>-0.168735</td>\n",
       "      <td>0.234364</td>\n",
       "      <td>0.014499</td>\n",
       "      <td>-0.080127</td>\n",
       "    </tr>\n",
       "    <tr>\n",
       "      <th>43016</th>\n",
       "      <td>laboratory</td>\n",
       "      <td>-0.066105</td>\n",
       "      <td>0.192248</td>\n",
       "      <td>-0.084539</td>\n",
       "      <td>-0.041603</td>\n",
       "    </tr>\n",
       "    <tr>\n",
       "      <th>31864</th>\n",
       "      <td>field</td>\n",
       "      <td>-0.070545</td>\n",
       "      <td>0.169029</td>\n",
       "      <td>-0.037024</td>\n",
       "      <td>-0.061460</td>\n",
       "    </tr>\n",
       "    <tr>\n",
       "      <th>20579</th>\n",
       "      <td>data science</td>\n",
       "      <td>-0.087934</td>\n",
       "      <td>0.155517</td>\n",
       "      <td>-0.031628</td>\n",
       "      <td>-0.035955</td>\n",
       "    </tr>\n",
       "    <tr>\n",
       "      <th>68749</th>\n",
       "      <td>set</td>\n",
       "      <td>-0.001452</td>\n",
       "      <td>0.135583</td>\n",
       "      <td>-0.039532</td>\n",
       "      <td>-0.094599</td>\n",
       "    </tr>\n",
       "    <tr>\n",
       "      <th>54177</th>\n",
       "      <td>pathology</td>\n",
       "      <td>-0.094012</td>\n",
       "      <td>0.125448</td>\n",
       "      <td>-0.023669</td>\n",
       "      <td>-0.007767</td>\n",
       "    </tr>\n",
       "    <tr>\n",
       "      <th>72138</th>\n",
       "      <td>statistical</td>\n",
       "      <td>-0.027554</td>\n",
       "      <td>0.122670</td>\n",
       "      <td>-0.072452</td>\n",
       "      <td>-0.022664</td>\n",
       "    </tr>\n",
       "  </tbody>\n",
       "</table>\n",
       "</div>"
      ],
      "text/plain": [
       "               tokens  analyst_coef  scientist_coef  engineer_coef  \\\n",
       "67319       scientist     -0.427659        0.684443      -0.162190   \n",
       "67220         science     -0.199892        0.345336       0.001203   \n",
       "20580  data scientist     -0.147763        0.261029      -0.058981   \n",
       "28731   environmental     -0.168735        0.234364       0.014499   \n",
       "43016      laboratory     -0.066105        0.192248      -0.084539   \n",
       "31864           field     -0.070545        0.169029      -0.037024   \n",
       "20579    data science     -0.087934        0.155517      -0.031628   \n",
       "68749             set     -0.001452        0.135583      -0.039532   \n",
       "54177       pathology     -0.094012        0.125448      -0.023669   \n",
       "72138     statistical     -0.027554        0.122670      -0.072452   \n",
       "\n",
       "       architect_coef  \n",
       "67319       -0.094594  \n",
       "67220       -0.146647  \n",
       "20580       -0.054285  \n",
       "28731       -0.080127  \n",
       "43016       -0.041603  \n",
       "31864       -0.061460  \n",
       "20579       -0.035955  \n",
       "68749       -0.094599  \n",
       "54177       -0.007767  \n",
       "72138       -0.022664  "
      ]
     },
     "execution_count": 55,
     "metadata": {},
     "output_type": "execute_result"
    }
   ],
   "source": [
    "lr_pipe2_df.sort_values('scientist_coef', ascending=False)[:10]"
   ]
  },
  {
   "cell_type": "code",
   "execution_count": 56,
   "id": "strong-workshop",
   "metadata": {},
   "outputs": [
    {
     "data": {
      "text/html": [
       "<div>\n",
       "<style scoped>\n",
       "    .dataframe tbody tr th:only-of-type {\n",
       "        vertical-align: middle;\n",
       "    }\n",
       "\n",
       "    .dataframe tbody tr th {\n",
       "        vertical-align: top;\n",
       "    }\n",
       "\n",
       "    .dataframe thead th {\n",
       "        text-align: right;\n",
       "    }\n",
       "</style>\n",
       "<table border=\"1\" class=\"dataframe tex2jax_ignore\">\n",
       "  <thead>\n",
       "    <tr style=\"text-align: right;\">\n",
       "      <th></th>\n",
       "      <th>tokens</th>\n",
       "      <th>analyst_coef</th>\n",
       "      <th>scientist_coef</th>\n",
       "      <th>engineer_coef</th>\n",
       "      <th>architect_coef</th>\n",
       "    </tr>\n",
       "  </thead>\n",
       "  <tbody>\n",
       "    <tr>\n",
       "      <th>11231</th>\n",
       "      <td>business analyst</td>\n",
       "      <td>0.514242</td>\n",
       "      <td>-0.052664</td>\n",
       "      <td>-0.246949</td>\n",
       "      <td>-0.214629</td>\n",
       "    </tr>\n",
       "    <tr>\n",
       "      <th>20213</th>\n",
       "      <td>data analyst</td>\n",
       "      <td>0.352209</td>\n",
       "      <td>-0.059778</td>\n",
       "      <td>-0.171083</td>\n",
       "      <td>-0.121347</td>\n",
       "    </tr>\n",
       "    <tr>\n",
       "      <th>4793</th>\n",
       "      <td>analyst join</td>\n",
       "      <td>0.288451</td>\n",
       "      <td>-0.069058</td>\n",
       "      <td>-0.138239</td>\n",
       "      <td>-0.081155</td>\n",
       "    </tr>\n",
       "    <tr>\n",
       "      <th>13212</th>\n",
       "      <td>change</td>\n",
       "      <td>0.224334</td>\n",
       "      <td>-0.041519</td>\n",
       "      <td>-0.109872</td>\n",
       "      <td>-0.072944</td>\n",
       "    </tr>\n",
       "    <tr>\n",
       "      <th>31970</th>\n",
       "      <td>finance</td>\n",
       "      <td>0.207746</td>\n",
       "      <td>-0.057841</td>\n",
       "      <td>-0.081941</td>\n",
       "      <td>-0.067964</td>\n",
       "    </tr>\n",
       "    <tr>\n",
       "      <th>63268</th>\n",
       "      <td>report</td>\n",
       "      <td>0.203203</td>\n",
       "      <td>-0.006401</td>\n",
       "      <td>-0.065796</td>\n",
       "      <td>-0.131005</td>\n",
       "    </tr>\n",
       "    <tr>\n",
       "      <th>79486</th>\n",
       "      <td>user</td>\n",
       "      <td>0.182199</td>\n",
       "      <td>-0.064035</td>\n",
       "      <td>-0.001679</td>\n",
       "      <td>-0.116484</td>\n",
       "    </tr>\n",
       "    <tr>\n",
       "      <th>11230</th>\n",
       "      <td>business analysis</td>\n",
       "      <td>0.174751</td>\n",
       "      <td>-0.028819</td>\n",
       "      <td>-0.093171</td>\n",
       "      <td>-0.052762</td>\n",
       "    </tr>\n",
       "    <tr>\n",
       "      <th>32069</th>\n",
       "      <td>financial</td>\n",
       "      <td>0.163406</td>\n",
       "      <td>0.013190</td>\n",
       "      <td>-0.048787</td>\n",
       "      <td>-0.127808</td>\n",
       "    </tr>\n",
       "    <tr>\n",
       "      <th>57463</th>\n",
       "      <td>pricing</td>\n",
       "      <td>0.155077</td>\n",
       "      <td>-0.016014</td>\n",
       "      <td>-0.092870</td>\n",
       "      <td>-0.046194</td>\n",
       "    </tr>\n",
       "  </tbody>\n",
       "</table>\n",
       "</div>"
      ],
      "text/plain": [
       "                  tokens  analyst_coef  scientist_coef  engineer_coef  \\\n",
       "11231   business analyst      0.514242       -0.052664      -0.246949   \n",
       "20213       data analyst      0.352209       -0.059778      -0.171083   \n",
       "4793        analyst join      0.288451       -0.069058      -0.138239   \n",
       "13212             change      0.224334       -0.041519      -0.109872   \n",
       "31970            finance      0.207746       -0.057841      -0.081941   \n",
       "63268             report      0.203203       -0.006401      -0.065796   \n",
       "79486               user      0.182199       -0.064035      -0.001679   \n",
       "11230  business analysis      0.174751       -0.028819      -0.093171   \n",
       "32069          financial      0.163406        0.013190      -0.048787   \n",
       "57463            pricing      0.155077       -0.016014      -0.092870   \n",
       "\n",
       "       architect_coef  \n",
       "11231       -0.214629  \n",
       "20213       -0.121347  \n",
       "4793        -0.081155  \n",
       "13212       -0.072944  \n",
       "31970       -0.067964  \n",
       "63268       -0.131005  \n",
       "79486       -0.116484  \n",
       "11230       -0.052762  \n",
       "32069       -0.127808  \n",
       "57463       -0.046194  "
      ]
     },
     "execution_count": 56,
     "metadata": {},
     "output_type": "execute_result"
    }
   ],
   "source": [
    "lr_pipe2_df.sort_values('analyst_coef', ascending=False)[:10]"
   ]
  },
  {
   "cell_type": "markdown",
   "id": "accomplished-jordan",
   "metadata": {},
   "source": [
    "#### As the top features turned out to be the same word as the defined category, it indicates data leakage. Below will add these top relevant features/token to stop words to see if model returns more intelligent results"
   ]
  },
  {
   "cell_type": "code",
   "execution_count": 57,
   "id": "failing-exposure",
   "metadata": {},
   "outputs": [
    {
     "name": "stdout",
     "output_type": "stream",
     "text": [
      "Fitting 5 folds for each of 64 candidates, totalling 320 fits\n",
      "              precision    recall  f1-score   support\n",
      "\n",
      "           0       0.90      0.97      0.94       638\n",
      "           1       1.00      0.41      0.58        39\n",
      "           2       0.85      0.82      0.84       242\n",
      "           3       0.84      0.72      0.77       107\n",
      "\n",
      "    accuracy                           0.89      1026\n",
      "   macro avg       0.90      0.73      0.78      1026\n",
      "weighted avg       0.89      0.89      0.88      1026\n",
      "\n"
     ]
    }
   ],
   "source": [
    "from nltk.corpus import stopwords  \n",
    "stop_words = set(stopwords.words('english')) \n",
    "stop_words.update({'architect','architectur','architecture','architectural','architecting','engineer','engineering','scientist','science','scientific','analyst','analysis','analyse'}) \n",
    "\n",
    "cv = CountVectorizer(stop_words=stop_words)\n",
    "lr = LogisticRegression(max_iter=300)\n",
    "\n",
    "lr_pipe3 = Pipeline(steps = [('cv',cv), ('lr',lr)])\n",
    "\n",
    "lr_pipe3_params = {'cv__max_df': [0.2,0.3],\n",
    "                  'cv__min_df': [1,2],\n",
    "                  'cv__max_features': [2000,2500],\n",
    "                  'cv__ngram_range': [(1,1),(1,2)],\n",
    "                  'lr__C':[0.001,0.01,0.1,1]}\n",
    "\n",
    "lr_pipe3_gs = GridSearchCV(lr_pipe3, param_grid=lr_pipe3_params, cv=5, n_jobs=-1, verbose=1)\n",
    "\n",
    "lr_pipe3_gs.fit(XX_train, yy_train)\n",
    "class_report(lr_pipe3_gs, yy_test, XX_test)"
   ]
  },
  {
   "cell_type": "code",
   "execution_count": 58,
   "id": "adapted-service",
   "metadata": {},
   "outputs": [
    {
     "data": {
      "text/plain": [
       "({'cv__max_df': 0.3,\n",
       "  'cv__max_features': 2500,\n",
       "  'cv__min_df': 2,\n",
       "  'cv__ngram_range': (1, 2),\n",
       "  'lr__C': 0.1},\n",
       " 0.8815795727993819)"
      ]
     },
     "execution_count": 58,
     "metadata": {},
     "output_type": "execute_result"
    }
   ],
   "source": [
    "lr_pipe3_gs.best_params_, lr_pipe3_gs.best_score_"
   ]
  },
  {
   "cell_type": "code",
   "execution_count": 59,
   "id": "removable-tenant",
   "metadata": {},
   "outputs": [],
   "source": [
    "tokens = lr_pipe3_gs.best_estimator_.named_steps['cv'].get_feature_names()\n",
    "analyst_coef = lr_pipe3_gs.best_estimator_.named_steps['lr'].coef_[0]\n",
    "scientist_coef = lr_pipe3_gs.best_estimator_.named_steps['lr'].coef_[1]\n",
    "engineer_coef = lr_pipe3_gs.best_estimator_.named_steps['lr'].coef_[2]\n",
    "architect_coef = lr_pipe3_gs.best_estimator_.named_steps['lr'].coef_[3]\n",
    "\n",
    "lr_pipe3_df = pd.DataFrame({'token': tokens,\n",
    "                           'analyst_coef':analyst_coef,\n",
    "                           'scientist_coef': scientist_coef,\n",
    "                           'engineer_coef': engineer_coef,\n",
    "                           'architect_coef': architect_coef,\n",
    "                           })"
   ]
  },
  {
   "cell_type": "code",
   "execution_count": 60,
   "id": "meaning-sample",
   "metadata": {},
   "outputs": [
    {
     "data": {
      "text/html": [
       "<div>\n",
       "<style scoped>\n",
       "    .dataframe tbody tr th:only-of-type {\n",
       "        vertical-align: middle;\n",
       "    }\n",
       "\n",
       "    .dataframe tbody tr th {\n",
       "        vertical-align: top;\n",
       "    }\n",
       "\n",
       "    .dataframe thead th {\n",
       "        text-align: right;\n",
       "    }\n",
       "</style>\n",
       "<table border=\"1\" class=\"dataframe tex2jax_ignore\">\n",
       "  <thead>\n",
       "    <tr style=\"text-align: right;\">\n",
       "      <th></th>\n",
       "      <th>token</th>\n",
       "      <th>architect_coef</th>\n",
       "    </tr>\n",
       "  </thead>\n",
       "  <tbody>\n",
       "    <tr>\n",
       "      <th>2251</th>\n",
       "      <td>technology solution</td>\n",
       "      <td>0.387795</td>\n",
       "    </tr>\n",
       "    <tr>\n",
       "      <th>815</th>\n",
       "      <td>enterprise</td>\n",
       "      <td>0.378400</td>\n",
       "    </tr>\n",
       "    <tr>\n",
       "      <th>2062</th>\n",
       "      <td>solution design</td>\n",
       "      <td>0.377825</td>\n",
       "    </tr>\n",
       "    <tr>\n",
       "      <th>664</th>\n",
       "      <td>designing</td>\n",
       "      <td>0.369692</td>\n",
       "    </tr>\n",
       "    <tr>\n",
       "      <th>1918</th>\n",
       "      <td>roadmaps</td>\n",
       "      <td>0.335692</td>\n",
       "    </tr>\n",
       "    <tr>\n",
       "      <th>1418</th>\n",
       "      <td>meeting</td>\n",
       "      <td>0.286233</td>\n",
       "    </tr>\n",
       "    <tr>\n",
       "      <th>734</th>\n",
       "      <td>domain</td>\n",
       "      <td>0.282494</td>\n",
       "    </tr>\n",
       "    <tr>\n",
       "      <th>1300</th>\n",
       "      <td>leadership</td>\n",
       "      <td>0.281116</td>\n",
       "    </tr>\n",
       "    <tr>\n",
       "      <th>843</th>\n",
       "      <td>etc</td>\n",
       "      <td>0.263067</td>\n",
       "    </tr>\n",
       "    <tr>\n",
       "      <th>2066</th>\n",
       "      <td>solution work</td>\n",
       "      <td>0.246508</td>\n",
       "    </tr>\n",
       "  </tbody>\n",
       "</table>\n",
       "</div>"
      ],
      "text/plain": [
       "                    token  architect_coef\n",
       "2251  technology solution        0.387795\n",
       "815            enterprise        0.378400\n",
       "2062      solution design        0.377825\n",
       "664             designing        0.369692\n",
       "1918             roadmaps        0.335692\n",
       "1418              meeting        0.286233\n",
       "734                domain        0.282494\n",
       "1300           leadership        0.281116\n",
       "843                   etc        0.263067\n",
       "2066        solution work        0.246508"
      ]
     },
     "execution_count": 60,
     "metadata": {},
     "output_type": "execute_result"
    }
   ],
   "source": [
    "lr_pipe3_df[['token','architect_coef']].sort_values('architect_coef', ascending=False)[:10]"
   ]
  },
  {
   "cell_type": "code",
   "execution_count": 61,
   "id": "choice-command",
   "metadata": {},
   "outputs": [
    {
     "data": {
      "text/html": [
       "<div>\n",
       "<style scoped>\n",
       "    .dataframe tbody tr th:only-of-type {\n",
       "        vertical-align: middle;\n",
       "    }\n",
       "\n",
       "    .dataframe tbody tr th {\n",
       "        vertical-align: top;\n",
       "    }\n",
       "\n",
       "    .dataframe thead th {\n",
       "        text-align: right;\n",
       "    }\n",
       "</style>\n",
       "<table border=\"1\" class=\"dataframe tex2jax_ignore\">\n",
       "  <thead>\n",
       "    <tr style=\"text-align: right;\">\n",
       "      <th></th>\n",
       "      <th>token</th>\n",
       "      <th>scientist_coef</th>\n",
       "    </tr>\n",
       "  </thead>\n",
       "  <tbody>\n",
       "    <tr>\n",
       "      <th>822</th>\n",
       "      <td>environmental</td>\n",
       "      <td>0.443904</td>\n",
       "    </tr>\n",
       "    <tr>\n",
       "      <th>1284</th>\n",
       "      <td>laboratory</td>\n",
       "      <td>0.340806</td>\n",
       "    </tr>\n",
       "    <tr>\n",
       "      <th>957</th>\n",
       "      <td>field</td>\n",
       "      <td>0.296266</td>\n",
       "    </tr>\n",
       "    <tr>\n",
       "      <th>2114</th>\n",
       "      <td>statistical</td>\n",
       "      <td>0.258113</td>\n",
       "    </tr>\n",
       "    <tr>\n",
       "      <th>1414</th>\n",
       "      <td>medical</td>\n",
       "      <td>0.250871</td>\n",
       "    </tr>\n",
       "    <tr>\n",
       "      <th>2150</th>\n",
       "      <td>study</td>\n",
       "      <td>0.243479</td>\n",
       "    </tr>\n",
       "    <tr>\n",
       "      <th>1670</th>\n",
       "      <td>predictive</td>\n",
       "      <td>0.240612</td>\n",
       "    </tr>\n",
       "    <tr>\n",
       "      <th>2012</th>\n",
       "      <td>set</td>\n",
       "      <td>0.231631</td>\n",
       "    </tr>\n",
       "    <tr>\n",
       "      <th>1202</th>\n",
       "      <td>innovation</td>\n",
       "      <td>0.213658</td>\n",
       "    </tr>\n",
       "    <tr>\n",
       "      <th>1305</th>\n",
       "      <td>learning</td>\n",
       "      <td>0.206092</td>\n",
       "    </tr>\n",
       "    <tr>\n",
       "      <th>115</th>\n",
       "      <td>algorithm</td>\n",
       "      <td>0.189966</td>\n",
       "    </tr>\n",
       "    <tr>\n",
       "      <th>402</th>\n",
       "      <td>close</td>\n",
       "      <td>0.188440</td>\n",
       "    </tr>\n",
       "    <tr>\n",
       "      <th>1125</th>\n",
       "      <td>hospital</td>\n",
       "      <td>0.186856</td>\n",
       "    </tr>\n",
       "    <tr>\n",
       "      <th>135</th>\n",
       "      <td>analytical</td>\n",
       "      <td>0.184398</td>\n",
       "    </tr>\n",
       "    <tr>\n",
       "      <th>18</th>\n",
       "      <td>2021</td>\n",
       "      <td>0.183297</td>\n",
       "    </tr>\n",
       "    <tr>\n",
       "      <th>1449</th>\n",
       "      <td>model</td>\n",
       "      <td>0.181149</td>\n",
       "    </tr>\n",
       "    <tr>\n",
       "      <th>561</th>\n",
       "      <td>culture</td>\n",
       "      <td>0.176795</td>\n",
       "    </tr>\n",
       "    <tr>\n",
       "      <th>754</th>\n",
       "      <td>education</td>\n",
       "      <td>0.172802</td>\n",
       "    </tr>\n",
       "    <tr>\n",
       "      <th>1286</th>\n",
       "      <td>land</td>\n",
       "      <td>0.169909</td>\n",
       "    </tr>\n",
       "    <tr>\n",
       "      <th>1126</th>\n",
       "      <td>hour</td>\n",
       "      <td>0.166228</td>\n",
       "    </tr>\n",
       "  </tbody>\n",
       "</table>\n",
       "</div>"
      ],
      "text/plain": [
       "              token  scientist_coef\n",
       "822   environmental        0.443904\n",
       "1284     laboratory        0.340806\n",
       "957           field        0.296266\n",
       "2114    statistical        0.258113\n",
       "1414        medical        0.250871\n",
       "2150          study        0.243479\n",
       "1670     predictive        0.240612\n",
       "2012            set        0.231631\n",
       "1202     innovation        0.213658\n",
       "1305       learning        0.206092\n",
       "115       algorithm        0.189966\n",
       "402           close        0.188440\n",
       "1125       hospital        0.186856\n",
       "135      analytical        0.184398\n",
       "18             2021        0.183297\n",
       "1449          model        0.181149\n",
       "561         culture        0.176795\n",
       "754       education        0.172802\n",
       "1286           land        0.169909\n",
       "1126           hour        0.166228"
      ]
     },
     "execution_count": 61,
     "metadata": {},
     "output_type": "execute_result"
    }
   ],
   "source": [
    "lr_pipe3_df[['token','scientist_coef']].sort_values('scientist_coef', ascending=False)[:20]"
   ]
  },
  {
   "cell_type": "code",
   "execution_count": 62,
   "id": "pharmaceutical-firewall",
   "metadata": {},
   "outputs": [
    {
     "data": {
      "text/html": [
       "<div>\n",
       "<style scoped>\n",
       "    .dataframe tbody tr th:only-of-type {\n",
       "        vertical-align: middle;\n",
       "    }\n",
       "\n",
       "    .dataframe tbody tr th {\n",
       "        vertical-align: top;\n",
       "    }\n",
       "\n",
       "    .dataframe thead th {\n",
       "        text-align: right;\n",
       "    }\n",
       "</style>\n",
       "<table border=\"1\" class=\"dataframe tex2jax_ignore\">\n",
       "  <thead>\n",
       "    <tr style=\"text-align: right;\">\n",
       "      <th></th>\n",
       "      <th>token</th>\n",
       "      <th>engineer_coef</th>\n",
       "    </tr>\n",
       "  </thead>\n",
       "  <tbody>\n",
       "    <tr>\n",
       "      <th>1777</th>\n",
       "      <td>python</td>\n",
       "      <td>0.397146</td>\n",
       "    </tr>\n",
       "    <tr>\n",
       "      <th>2121</th>\n",
       "      <td>storage</td>\n",
       "      <td>0.378551</td>\n",
       "    </tr>\n",
       "    <tr>\n",
       "      <th>233</th>\n",
       "      <td>aws</td>\n",
       "      <td>0.340210</td>\n",
       "    </tr>\n",
       "    <tr>\n",
       "      <th>692</th>\n",
       "      <td>devops</td>\n",
       "      <td>0.334962</td>\n",
       "    </tr>\n",
       "    <tr>\n",
       "      <th>764</th>\n",
       "      <td>electrical</td>\n",
       "      <td>0.331402</td>\n",
       "    </tr>\n",
       "    <tr>\n",
       "      <th>652</th>\n",
       "      <td>deploy</td>\n",
       "      <td>0.328701</td>\n",
       "    </tr>\n",
       "    <tr>\n",
       "      <th>2054</th>\n",
       "      <td>software</td>\n",
       "      <td>0.324410</td>\n",
       "    </tr>\n",
       "    <tr>\n",
       "      <th>602</th>\n",
       "      <td>data pipeline</td>\n",
       "      <td>0.314554</td>\n",
       "    </tr>\n",
       "    <tr>\n",
       "      <th>1039</th>\n",
       "      <td>geotechnical</td>\n",
       "      <td>0.299897</td>\n",
       "    </tr>\n",
       "    <tr>\n",
       "      <th>419</th>\n",
       "      <td>code</td>\n",
       "      <td>0.275325</td>\n",
       "    </tr>\n",
       "  </tbody>\n",
       "</table>\n",
       "</div>"
      ],
      "text/plain": [
       "              token  engineer_coef\n",
       "1777         python       0.397146\n",
       "2121        storage       0.378551\n",
       "233             aws       0.340210\n",
       "692          devops       0.334962\n",
       "764      electrical       0.331402\n",
       "652          deploy       0.328701\n",
       "2054       software       0.324410\n",
       "602   data pipeline       0.314554\n",
       "1039   geotechnical       0.299897\n",
       "419            code       0.275325"
      ]
     },
     "execution_count": 62,
     "metadata": {},
     "output_type": "execute_result"
    }
   ],
   "source": [
    "lr_pipe3_df[['token','engineer_coef']].sort_values('engineer_coef', ascending=False)[:10]"
   ]
  },
  {
   "cell_type": "code",
   "execution_count": 63,
   "id": "documentary-fashion",
   "metadata": {},
   "outputs": [
    {
     "data": {
      "text/html": [
       "<div>\n",
       "<style scoped>\n",
       "    .dataframe tbody tr th:only-of-type {\n",
       "        vertical-align: middle;\n",
       "    }\n",
       "\n",
       "    .dataframe tbody tr th {\n",
       "        vertical-align: top;\n",
       "    }\n",
       "\n",
       "    .dataframe thead th {\n",
       "        text-align: right;\n",
       "    }\n",
       "</style>\n",
       "<table border=\"1\" class=\"dataframe tex2jax_ignore\">\n",
       "  <thead>\n",
       "    <tr style=\"text-align: right;\">\n",
       "      <th></th>\n",
       "      <th>token</th>\n",
       "      <th>analyst_coef</th>\n",
       "    </tr>\n",
       "  </thead>\n",
       "  <tbody>\n",
       "    <tr>\n",
       "      <th>2234</th>\n",
       "      <td>technical business</td>\n",
       "      <td>0.391471</td>\n",
       "    </tr>\n",
       "    <tr>\n",
       "      <th>1871</th>\n",
       "      <td>report</td>\n",
       "      <td>0.370248</td>\n",
       "    </tr>\n",
       "    <tr>\n",
       "      <th>318</th>\n",
       "      <td>business process</td>\n",
       "      <td>0.354849</td>\n",
       "    </tr>\n",
       "    <tr>\n",
       "      <th>241</th>\n",
       "      <td>ba</td>\n",
       "      <td>0.352469</td>\n",
       "    </tr>\n",
       "    <tr>\n",
       "      <th>2357</th>\n",
       "      <td>user</td>\n",
       "      <td>0.293232</td>\n",
       "    </tr>\n",
       "    <tr>\n",
       "      <th>888</th>\n",
       "      <td>experience business</td>\n",
       "      <td>0.289889</td>\n",
       "    </tr>\n",
       "    <tr>\n",
       "      <th>377</th>\n",
       "      <td>change</td>\n",
       "      <td>0.283014</td>\n",
       "    </tr>\n",
       "    <tr>\n",
       "      <th>1993</th>\n",
       "      <td>senior business</td>\n",
       "      <td>0.280809</td>\n",
       "    </tr>\n",
       "    <tr>\n",
       "      <th>959</th>\n",
       "      <td>finance</td>\n",
       "      <td>0.279334</td>\n",
       "    </tr>\n",
       "    <tr>\n",
       "      <th>2481</th>\n",
       "      <td>workshop</td>\n",
       "      <td>0.277422</td>\n",
       "    </tr>\n",
       "  </tbody>\n",
       "</table>\n",
       "</div>"
      ],
      "text/plain": [
       "                    token  analyst_coef\n",
       "2234   technical business      0.391471\n",
       "1871               report      0.370248\n",
       "318      business process      0.354849\n",
       "241                    ba      0.352469\n",
       "2357                 user      0.293232\n",
       "888   experience business      0.289889\n",
       "377                change      0.283014\n",
       "1993      senior business      0.280809\n",
       "959               finance      0.279334\n",
       "2481             workshop      0.277422"
      ]
     },
     "execution_count": 63,
     "metadata": {},
     "output_type": "execute_result"
    }
   ],
   "source": [
    "lr_pipe3_df[['token','analyst_coef']].sort_values('analyst_coef', ascending=False)[:10]"
   ]
  }
 ],
 "metadata": {
  "kernelspec": {
   "display_name": "Python 3",
   "language": "python",
   "name": "python3"
  },
  "language_info": {
   "codemirror_mode": {
    "name": "ipython",
    "version": 3
   },
   "file_extension": ".py",
   "mimetype": "text/x-python",
   "name": "python",
   "nbconvert_exporter": "python",
   "pygments_lexer": "ipython3",
   "version": "3.7.4"
  }
 },
 "nbformat": 4,
 "nbformat_minor": 5
}
